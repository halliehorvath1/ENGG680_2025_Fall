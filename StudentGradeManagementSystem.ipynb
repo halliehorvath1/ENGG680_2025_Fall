{
  "cells": [
    {
      "cell_type": "markdown",
      "metadata": {
        "id": "view-in-github",
        "colab_type": "text"
      },
      "source": [
        "<a href=\"https://colab.research.google.com/github/halliehorvath1/ENGG680_2025_Fall/blob/main/StudentGradeManagementSystem.ipynb\" target=\"_parent\"><img src=\"https://colab.research.google.com/assets/colab-badge.svg\" alt=\"Open In Colab\"/></a>"
      ]
    },
    {
      "cell_type": "markdown",
      "id": "HWXrzcz_y4W4",
      "metadata": {
        "id": "HWXrzcz_y4W4"
      },
      "source": [
        "# **ENGG680 - Introduction to Digital Engineering**\n",
        "## *Lab Assignment 1: Using Git and Python for Collaborative Coding in Google Colab & Least Square Application*\n",
        "### (100 Marks)"
      ]
    },
    {
      "cell_type": "markdown",
      "id": "4fab98ae-2ed4-4d63-92bf-1de5dbb19934",
      "metadata": {
        "id": "4fab98ae-2ed4-4d63-92bf-1de5dbb19934"
      },
      "source": [
        "## Preliminary: Certificate of Work\n",
        "### (5 Marks)"
      ]
    },
    {
      "cell_type": "markdown",
      "id": "8f496d8e-869b-4d21-aa88-60d8ae45ba61",
      "metadata": {
        "id": "8f496d8e-869b-4d21-aa88-60d8ae45ba61"
      },
      "source": [
        "*We, the undersigned, certify that this is our own work, which has been done expressly for this course, either without the assistance of any other party or where appropriate we have acknowledged the work of others. Further, we have read and understood the section in the university calendar on plagiarism/cheating/other academic misconduct and we are aware of the implications thereof. We request that the total mark for this assignment be distributed as follows among group members:*"
      ]
    },
    {
      "cell_type": "markdown",
      "id": "5d9b6a22-cf19-4a2b-8b01-8a2a2a0f1f1f",
      "metadata": {
        "id": "5d9b6a22-cf19-4a2b-8b01-8a2a2a0f1f1f"
      },
      "source": [
        "|          | First Name | Last Name | Signature (Full Name, Date) | Hours | Contribution % |\n",
        "|----------|------------|-----------|-----------------------------|-------|----------------|\n",
        "| Member 1: | First Name | Last Name | Signature | Hours | Contribution |\n",
        "| Member 2: | First Name | Last Name | Signature | Hours | Contribution |\n",
        "| Member 3: | First Name | Last Name | Signature | Hours | Contribution |\n",
        "| Member 4: | First Name | Last Name | Signature | Hours | Contribution |\n"
      ]
    },
    {
      "cell_type": "markdown",
      "id": "f1aa1475-009f-4697-b37a-e46286e2b792",
      "metadata": {
        "id": "f1aa1475-009f-4697-b37a-e46286e2b792"
      },
      "source": [
        "## Part 1: Printing to the Console\n",
        "### (4 Marks)"
      ]
    },
    {
      "cell_type": "code",
      "execution_count": 1,
      "id": "78e4aa0e-2a7d-44cc-9f8b-b3593c1e8176",
      "metadata": {
        "id": "78e4aa0e-2a7d-44cc-9f8b-b3593c1e8176",
        "colab": {
          "base_uri": "https://localhost:8080/"
        },
        "outputId": "62997ba5-def1-4bdf-d2db-0e43fc0172cc"
      },
      "outputs": [
        {
          "output_type": "stream",
          "name": "stdout",
          "text": [
            "Hello,World! Welcome to the Student Gradebook Management System.\n"
          ]
        }
      ],
      "source": [
        "# In the space below, please print \"Hello, World! Welcome to the Student Gradebook Management System.\"\n",
        "print(\"Hello,World! Welcome to the Student Gradebook Management System.\")"
      ]
    },
    {
      "cell_type": "code",
      "execution_count": null,
      "id": "l3Venmnzsq2m",
      "metadata": {
        "id": "l3Venmnzsq2m",
        "colab": {
          "base_uri": "https://localhost:8080/"
        },
        "outputId": "c1ee6702-d125-40ef-802a-44fd0b504bbc"
      },
      "outputs": [
        {
          "output_type": "stream",
          "name": "stdout",
          "text": [
            "This is implemented by Group 12, for ENGG680 Fall of 2025\n"
          ]
        }
      ],
      "source": [
        "# Fill in your information using the defined variables below:\n",
        "# (1 mark)\n",
        "lab_group_number = 12\n",
        "intake_year = 2025\n",
        "intake_semester = \"Fall\" #\"Fall\" or \"Winter\"\n",
        "\n",
        "# Using f-strings and the variables above, print \"This is implemented by Group <lab_group_number>, for ENGG680 <intake_semester> of <intake_year>\"\n",
        "# (1 marks)\n",
        "print(f\"This is implemented by Group {lab_group_number}, for ENGG680 {intake_semester} of {intake_year}\")"
      ]
    },
    {
      "cell_type": "code",
      "execution_count": null,
      "id": "mX5gdzQGp9Bu",
      "metadata": {
        "id": "mX5gdzQGp9Bu",
        "colab": {
          "base_uri": "https://localhost:8080/"
        },
        "outputId": "ad217221-d70b-4642-a376-7b8cd03fc135"
      },
      "outputs": [
        {
          "output_type": "stream",
          "name": "stdout",
          "text": [
            "Our Group Members include Hemen, Faizen, Hannah, and Hallie.\n"
          ]
        }
      ],
      "source": [
        "# Similarly, create variables for each of your group members (eg. member_1, member_2....) and assign them your first names.\n",
        "# Then, using f-strings and the variables above, print the following sentence:\n",
        "# \"Our Group Members include <member_1>, <member_2>, ...\"\n",
        "# (1 marks)\n",
        "member_1 = \"Hemen\"\n",
        "member_2 = \"Faizen\"\n",
        "member_3 = \"Hannah\"\n",
        "member_4 = \"Hallie\"\n",
        "print(f\"Our Group Members include {member_1}, {member_2}, {member_3}, and {member_4}.\")\n"
      ]
    },
    {
      "cell_type": "code",
      "execution_count": null,
      "id": "mTPZ16XEtnHV",
      "metadata": {
        "id": "mTPZ16XEtnHV",
        "colab": {
          "base_uri": "https://localhost:8080/"
        },
        "outputId": "500a835a-fb62-4630-ab84-95b38b76099c"
      },
      "outputs": [
        {
          "output_type": "stream",
          "name": "stdout",
          "text": [
            "The subjects involved in this grading system is English and Math.\n"
          ]
        }
      ],
      "source": [
        "# Use indexing to print \"The subjects involved in this grading system is English and Math.\" using \"subjects\" below.\n",
        "# (1 marks)\n",
        "subjects = \"English\", \"Math\"\n",
        "print(f\"The subjects involved in this grading system is {subjects[0]} and {subjects[1]}.\")\n",
        "\n"
      ]
    },
    {
      "cell_type": "markdown",
      "id": "Cew8JQKs8IlV",
      "metadata": {
        "id": "Cew8JQKs8IlV"
      },
      "source": [
        "## Part 2: Python Fundamentals\n",
        "### (11 Marks)"
      ]
    },
    {
      "cell_type": "code",
      "execution_count": 3,
      "id": "lf2eJW36AHJn",
      "metadata": {
        "id": "lf2eJW36AHJn",
        "colab": {
          "base_uri": "https://localhost:8080/"
        },
        "outputId": "b9ac11dd-3ea0-4c8a-eba6-13c7b1b3b3c7"
      },
      "outputs": [
        {
          "output_type": "stream",
          "name": "stdout",
          "text": [
            "['Lethbridge', 'Calgary', 'Edmonton', 'Medicine Hat', 'Red Deer']\n",
            "['Edmonton', 'Grande Prairie', 'Lethbridge', 'Medicine Hat', 'Red Deer']\n"
          ]
        }
      ],
      "source": [
        "# Lists (2 marks)\n",
        "\n",
        "# 1. Create a list of any 5 cities in Alberta.\n",
        "cities_in_alberta = [\"Lethbridge\", \"Calgary\", \"Edmonton\", \"Medicine Hat\", \"Red Deer\"]\n",
        "\n",
        "# 2. Print the list\n",
        "print(cities_in_alberta)\n",
        "\n",
        "# 3. Add a new city to list.\n",
        "cities_in_alberta.append(\"Grande Prairie\")\n",
        "\n",
        "\n",
        "# 4. Remove the second city using either remove() or pop().\n",
        "removed_item = cities_in_alberta.pop(1)\n",
        "\n",
        "\n",
        "\n",
        "# 5. Sort the list alphabetically\n",
        "cities_in_alberta.sort()\n",
        "\n",
        "\n",
        "# 6. Print your final list\n",
        "print(cities_in_alberta)"
      ]
    },
    {
      "cell_type": "code",
      "execution_count": null,
      "id": "rr53uJwQ9uAe",
      "metadata": {
        "id": "rr53uJwQ9uAe",
        "colab": {
          "base_uri": "https://localhost:8080/",
          "height": 211
        },
        "outputId": "6ebb1dfa-90d5-49db-8b02-08b273df8e09"
      },
      "outputs": [
        {
          "output_type": "stream",
          "name": "stdout",
          "text": [
            "(3, 5, 7)\n"
          ]
        },
        {
          "output_type": "error",
          "ename": "TypeError",
          "evalue": "'tuple' object does not support item assignment",
          "traceback": [
            "\u001b[0;31m---------------------------------------------------------------------------\u001b[0m",
            "\u001b[0;31mTypeError\u001b[0m                                 Traceback (most recent call last)",
            "\u001b[0;32m/tmp/ipython-input-2904837749.py\u001b[0m in \u001b[0;36m<cell line: 0>\u001b[0;34m()\u001b[0m\n\u001b[1;32m      8\u001b[0m \u001b[0;34m\u001b[0m\u001b[0m\n\u001b[1;32m      9\u001b[0m \u001b[0;31m# 3. Try to modify the second element. Does that work? Explain.\u001b[0m\u001b[0;34m\u001b[0m\u001b[0;34m\u001b[0m\u001b[0m\n\u001b[0;32m---> 10\u001b[0;31m \u001b[0mfavourite_numbers\u001b[0m\u001b[0;34m[\u001b[0m\u001b[0;36m1\u001b[0m\u001b[0;34m]\u001b[0m \u001b[0;34m=\u001b[0m \u001b[0;36m6\u001b[0m\u001b[0;34m\u001b[0m\u001b[0;34m\u001b[0m\u001b[0m\n\u001b[0m\u001b[1;32m     11\u001b[0m \u001b[0;34m\u001b[0m\u001b[0m\n",
            "\u001b[0;31mTypeError\u001b[0m: 'tuple' object does not support item assignment"
          ]
        }
      ],
      "source": [
        "# Tuples (2 marks)\n",
        "\n",
        "# 1. Create a tuple of 3 favorite numbers.\n",
        "favourite_numbers= (3,5,7)\n",
        "\n",
        "# 2. Print the tuple.\n",
        "print(favourite_numbers)\n",
        "\n",
        "# 3. Try to modify the second element. Does that work? Explain.\n",
        "favourite_numbers[1] = 6\n",
        "\n",
        "#Tuples are immutable and therefore, the elements cannot be changed so this produces an error message.\n"
      ]
    },
    {
      "cell_type": "code",
      "execution_count": 6,
      "id": "abx1OwgJW6hw",
      "metadata": {
        "id": "abx1OwgJW6hw",
        "colab": {
          "base_uri": "https://localhost:8080/"
        },
        "outputId": "51a7d51c-b751-4c48-eb66-f03180353346"
      },
      "outputs": [
        {
          "output_type": "stream",
          "name": "stdout",
          "text": [
            "{'Name': 'Susan', 'File Number': '30131', 'Country': 'Canada', 'Visa Type': 'Visitor', 'Expiry Year': '2026'}\n",
            "{'Name': 'Susan', 'File Number': '30131', 'Country': 'Canada', 'Visa Type': 'Visitor', 'Expiry Year': '2027', 'University': 'University of Toronto'}\n"
          ]
        }
      ],
      "source": [
        "# Dictionaries (2 marks)\n",
        "\n",
        "# 1. Create a dictionary representing a mini visa form with keys like:\n",
        "# \"Name\", \"File Number\", \"Country\", \"Visa Type\", \"Expiry Year\"\n",
        "# Assign fictional values to the keys.\n",
        "# Note: Dictionaries can contain values of different data types.\n",
        "mini_visa_form = {\"Name\": \"Susan\", \"File Number\": \"30131\", \"Country\": \"Canada\", \"Visa Type\": \"Visitor\", \"Expiry Year\": \"2026\"}\n",
        "\n",
        "# 2. Print the dictionary\n",
        "print(mini_visa_form)\n",
        "\n",
        "# 3. Add a new key \"University\" with a value\n",
        "mini_visa_form[\"University\"] = \"University of Toronto\"\n",
        "\n",
        "# 4. Update \"Expiry Year\" to a new year\n",
        "mini_visa_form[\"Expiry Year\"] = \"2027\"\n",
        "\n",
        "# 5. Print the final dictionary\n",
        "print(mini_visa_form)\n"
      ]
    },
    {
      "cell_type": "code",
      "execution_count": 14,
      "id": "uqp6pK8VZGD9",
      "metadata": {
        "id": "uqp6pK8VZGD9",
        "colab": {
          "base_uri": "https://localhost:8080/"
        },
        "outputId": "7bc7a02e-b71f-4cd0-e7b6-4b5a32e2acaf"
      },
      "outputs": [
        {
          "output_type": "stream",
          "name": "stdout",
          "text": [
            "both sets together{'History', 'English', 'Biology', 'Math', 'Physics'} and {'Geography', 'English', 'Math', 'Physics', 'Chemistry'}\n",
            "the union of the sets{'History', 'Physics', 'Geography', 'English', 'Biology', 'Math', 'Chemistry'}\n",
            "the intersection of sets{'English', 'Physics', 'Math'}\n",
            "the difference of sets{'History', 'Biology'}\n"
          ]
        }
      ],
      "source": [
        "# Sets (2 marks)\n",
        "\n",
        "# Set 1\n",
        "subjects1 = {\"Math\", \"English\", \"Physics\", \"Biology\", \"History\"}\n",
        "\n",
        "# Set 2\n",
        "subjects2 = {\"Math\", \"English\", \"Chemistry\", \"Geography\", \"Physics\"}\n",
        "\n",
        "# Tip: Use f-strings to print clear messages along with your output.\n",
        "# Eg. \"Union: \", \"Intersection: \"\n",
        "\n",
        "# 1. Print both the sets\n",
        "print(f\"both sets together{subjects1} and {subjects2}\")\n",
        "\n",
        "\n",
        "# 2. Print the union of sets\n",
        "Union = subjects1.union(subjects2)\n",
        "print(f\"the union of the sets{Union}\")\n",
        "\n",
        "# 3. Print the intersection of sets\n",
        "Intersection = subjects1.intersection(subjects2)\n",
        "print(f\"the intersection of sets{Intersection}\")\n",
        "\n",
        "# 4. Print the difference (subjects1 - subjects2)\n",
        "difference = subjects1.difference(subjects2)\n",
        "print(f\"the difference of sets{difference}\")"
      ]
    },
    {
      "cell_type": "code",
      "execution_count": 30,
      "id": "kAEpKNfQtl8n",
      "metadata": {
        "id": "kAEpKNfQtl8n",
        "colab": {
          "base_uri": "https://localhost:8080/"
        },
        "outputId": "13f58701-5694-4331-dd00-0ce597efff9e"
      },
      "outputs": [
        {
          "output_type": "stream",
          "name": "stdout",
          "text": [
            "Bank Name: Canada Bank\n",
            "Deposited $500. Updated balance: $1500\n",
            "Withdrew $200. Updated balance: $1300\n",
            "Account holder: Hallie, Current balance: $1300\n",
            "None\n"
          ]
        }
      ],
      "source": [
        "# Classes and Function (3 marks)\n",
        "\n",
        "# Step 1: Create a class BankAccount.\n",
        "# Add class attribute bankname=\"Canada Bank\"\n",
        "# Add 2 instance attributes: account_holder (string) & balance (float, default value 0.0)\n",
        "class BankAccount:\n",
        "    bankname = \"Canada Bank\"\n",
        "    def __init__(self, account_holder, balance=0.0):\n",
        "        self.account_holder = account_holder\n",
        "        self.balance = balance\n",
        "\n",
        "# Step 2: Add methods\n",
        "# 1. deposit(amount) -> Add amount to the balance\n",
        "# 2. withdraw(amount) -> Subtract the amount if balance is sufficient, else print an error message\n",
        "# 3. get_balance() -> Print Account holder's name and current balance\n",
        "# 4. get_bankname() -> Print the class attribute (staticmethod)\n",
        "# Note: Use f-strings to display the amount and updated balance whenever you call deposit() or withdraw()\n",
        "    def deposit(self, amount):\n",
        "        self.balance += amount\n",
        "        print(f\"Deposited ${amount}. Updated balance: ${self.balance}\")\n",
        "    def withdraw(self,amount):\n",
        "        if amount <= self.balance:\n",
        "          self.balance -= amount\n",
        "          print(f\"Withdrew ${amount}. Updated balance: ${self.balance}\")\n",
        "        else:\n",
        "          print(\"Insufficient Funds\")\n",
        "    def get_balance(self):\n",
        "          print(f\"Account holder: {self.account_holder}, Current balance: ${self.balance}\")\n",
        "    @staticmethod\n",
        "    def get_bankname():\n",
        "        print(f\"Bank Name: {BankAccount.bankname}\")\n",
        "\n",
        "# Step 3: Test\n",
        "# 1. Print the Bankname\n",
        "print(f\"Bank Name: {BankAccount.bankname}\")\n",
        "\n",
        "# 2. Create an object of BankAccount with your name and an initial balance of 1000\n",
        "my_account = BankAccount(\"Hallie\", 1000)\n",
        "\n",
        "# 3. Deposit 500\n",
        "my_account.deposit(500)\n",
        "\n",
        "# 4. Withdraw 200\n",
        "my_account.withdraw(200)\n",
        "\n",
        "# 5. Print the final balance\n",
        "print(my_account.get_balance())"
      ]
    },
    {
      "cell_type": "markdown",
      "id": "b45a5575-8e77-4bba-8311-69f997affc35",
      "metadata": {
        "id": "b45a5575-8e77-4bba-8311-69f997affc35"
      },
      "source": [
        "## Part 3: Using Pandas for Data Management and Analytics\n",
        "### (15 marks)"
      ]
    },
    {
      "cell_type": "code",
      "execution_count": null,
      "id": "6dbaa42e-22e3-4aa6-9bd3-dd9ede274c17",
      "metadata": {
        "id": "6dbaa42e-22e3-4aa6-9bd3-dd9ede274c17"
      },
      "outputs": [],
      "source": [
        "# In the space below, please import the Pandas library\n",
        "import pandas as pd"
      ]
    },
    {
      "cell_type": "code",
      "source": [
        "from google.colab import drive\n",
        "drive.mount('/content/drive')"
      ],
      "metadata": {
        "colab": {
          "base_uri": "https://localhost:8080/"
        },
        "id": "k9lmfP9aqh_e",
        "outputId": "f34c52f6-32c9-4803-fb4e-099e7385f6e9"
      },
      "id": "k9lmfP9aqh_e",
      "execution_count": null,
      "outputs": [
        {
          "output_type": "stream",
          "name": "stdout",
          "text": [
            "Mounted at /content/drive\n"
          ]
        }
      ]
    },
    {
      "cell_type": "code",
      "execution_count": 14,
      "id": "cce8e74f-bba1-4bf4-baaf-13e23cdf4afc",
      "metadata": {
        "id": "cce8e74f-bba1-4bf4-baaf-13e23cdf4afc"
      },
      "outputs": [],
      "source": [
        "# Load the student grade CSV files into DataFrames using the defined variables\n",
        "# (1 marks)\n",
        "df_english = pd.read_csv('/content/drive/MyDrive/ENGG680_2025_Fall/ENGG680_2025_Fall/Lab_Assignment1/studentGrades_English.csv')\n",
        "df_math = pd.read_csv('/content/drive/MyDrive/ENGG680_2025_Fall/ENGG680_2025_Fall/Lab_Assignment1/studentGrades_Math.csv')"
      ]
    },
    {
      "cell_type": "code",
      "execution_count": 15,
      "id": "O0FyC8aftofz",
      "metadata": {
        "id": "O0FyC8aftofz",
        "colab": {
          "base_uri": "https://localhost:8080/",
          "height": 206
        },
        "outputId": "5e50ef7a-155a-46f1-91f6-44be01c9b6b3"
      },
      "outputs": [
        {
          "output_type": "execute_result",
          "data": {
            "text/plain": [
              "  firstName  lastName  studentID  grade\n",
              "0      Emma     Smith      10959     95\n",
              "1    Sophia  Robinson      75175     88\n",
              "2      Emma    Taylor      42257     87\n",
              "3     David  Robinson      55148     86\n",
              "4   Stephen     Curry      30303     90"
            ],
            "text/html": [
              "\n",
              "  <div id=\"df-1ae19f20-8855-4636-b9f4-4727d4b56c07\" class=\"colab-df-container\">\n",
              "    <div>\n",
              "<style scoped>\n",
              "    .dataframe tbody tr th:only-of-type {\n",
              "        vertical-align: middle;\n",
              "    }\n",
              "\n",
              "    .dataframe tbody tr th {\n",
              "        vertical-align: top;\n",
              "    }\n",
              "\n",
              "    .dataframe thead th {\n",
              "        text-align: right;\n",
              "    }\n",
              "</style>\n",
              "<table border=\"1\" class=\"dataframe\">\n",
              "  <thead>\n",
              "    <tr style=\"text-align: right;\">\n",
              "      <th></th>\n",
              "      <th>firstName</th>\n",
              "      <th>lastName</th>\n",
              "      <th>studentID</th>\n",
              "      <th>grade</th>\n",
              "    </tr>\n",
              "  </thead>\n",
              "  <tbody>\n",
              "    <tr>\n",
              "      <th>0</th>\n",
              "      <td>Emma</td>\n",
              "      <td>Smith</td>\n",
              "      <td>10959</td>\n",
              "      <td>95</td>\n",
              "    </tr>\n",
              "    <tr>\n",
              "      <th>1</th>\n",
              "      <td>Sophia</td>\n",
              "      <td>Robinson</td>\n",
              "      <td>75175</td>\n",
              "      <td>88</td>\n",
              "    </tr>\n",
              "    <tr>\n",
              "      <th>2</th>\n",
              "      <td>Emma</td>\n",
              "      <td>Taylor</td>\n",
              "      <td>42257</td>\n",
              "      <td>87</td>\n",
              "    </tr>\n",
              "    <tr>\n",
              "      <th>3</th>\n",
              "      <td>David</td>\n",
              "      <td>Robinson</td>\n",
              "      <td>55148</td>\n",
              "      <td>86</td>\n",
              "    </tr>\n",
              "    <tr>\n",
              "      <th>4</th>\n",
              "      <td>Stephen</td>\n",
              "      <td>Curry</td>\n",
              "      <td>30303</td>\n",
              "      <td>90</td>\n",
              "    </tr>\n",
              "  </tbody>\n",
              "</table>\n",
              "</div>\n",
              "    <div class=\"colab-df-buttons\">\n",
              "\n",
              "  <div class=\"colab-df-container\">\n",
              "    <button class=\"colab-df-convert\" onclick=\"convertToInteractive('df-1ae19f20-8855-4636-b9f4-4727d4b56c07')\"\n",
              "            title=\"Convert this dataframe to an interactive table.\"\n",
              "            style=\"display:none;\">\n",
              "\n",
              "  <svg xmlns=\"http://www.w3.org/2000/svg\" height=\"24px\" viewBox=\"0 -960 960 960\">\n",
              "    <path d=\"M120-120v-720h720v720H120Zm60-500h600v-160H180v160Zm220 220h160v-160H400v160Zm0 220h160v-160H400v160ZM180-400h160v-160H180v160Zm440 0h160v-160H620v160ZM180-180h160v-160H180v160Zm440 0h160v-160H620v160Z\"/>\n",
              "  </svg>\n",
              "    </button>\n",
              "\n",
              "  <style>\n",
              "    .colab-df-container {\n",
              "      display:flex;\n",
              "      gap: 12px;\n",
              "    }\n",
              "\n",
              "    .colab-df-convert {\n",
              "      background-color: #E8F0FE;\n",
              "      border: none;\n",
              "      border-radius: 50%;\n",
              "      cursor: pointer;\n",
              "      display: none;\n",
              "      fill: #1967D2;\n",
              "      height: 32px;\n",
              "      padding: 0 0 0 0;\n",
              "      width: 32px;\n",
              "    }\n",
              "\n",
              "    .colab-df-convert:hover {\n",
              "      background-color: #E2EBFA;\n",
              "      box-shadow: 0px 1px 2px rgba(60, 64, 67, 0.3), 0px 1px 3px 1px rgba(60, 64, 67, 0.15);\n",
              "      fill: #174EA6;\n",
              "    }\n",
              "\n",
              "    .colab-df-buttons div {\n",
              "      margin-bottom: 4px;\n",
              "    }\n",
              "\n",
              "    [theme=dark] .colab-df-convert {\n",
              "      background-color: #3B4455;\n",
              "      fill: #D2E3FC;\n",
              "    }\n",
              "\n",
              "    [theme=dark] .colab-df-convert:hover {\n",
              "      background-color: #434B5C;\n",
              "      box-shadow: 0px 1px 3px 1px rgba(0, 0, 0, 0.15);\n",
              "      filter: drop-shadow(0px 1px 2px rgba(0, 0, 0, 0.3));\n",
              "      fill: #FFFFFF;\n",
              "    }\n",
              "  </style>\n",
              "\n",
              "    <script>\n",
              "      const buttonEl =\n",
              "        document.querySelector('#df-1ae19f20-8855-4636-b9f4-4727d4b56c07 button.colab-df-convert');\n",
              "      buttonEl.style.display =\n",
              "        google.colab.kernel.accessAllowed ? 'block' : 'none';\n",
              "\n",
              "      async function convertToInteractive(key) {\n",
              "        const element = document.querySelector('#df-1ae19f20-8855-4636-b9f4-4727d4b56c07');\n",
              "        const dataTable =\n",
              "          await google.colab.kernel.invokeFunction('convertToInteractive',\n",
              "                                                    [key], {});\n",
              "        if (!dataTable) return;\n",
              "\n",
              "        const docLinkHtml = 'Like what you see? Visit the ' +\n",
              "          '<a target=\"_blank\" href=https://colab.research.google.com/notebooks/data_table.ipynb>data table notebook</a>'\n",
              "          + ' to learn more about interactive tables.';\n",
              "        element.innerHTML = '';\n",
              "        dataTable['output_type'] = 'display_data';\n",
              "        await google.colab.output.renderOutput(dataTable, element);\n",
              "        const docLink = document.createElement('div');\n",
              "        docLink.innerHTML = docLinkHtml;\n",
              "        element.appendChild(docLink);\n",
              "      }\n",
              "    </script>\n",
              "  </div>\n",
              "\n",
              "\n",
              "    <div id=\"df-d21590eb-9a1f-41ca-8890-2980ab927f81\">\n",
              "      <button class=\"colab-df-quickchart\" onclick=\"quickchart('df-d21590eb-9a1f-41ca-8890-2980ab927f81')\"\n",
              "                title=\"Suggest charts\"\n",
              "                style=\"display:none;\">\n",
              "\n",
              "<svg xmlns=\"http://www.w3.org/2000/svg\" height=\"24px\"viewBox=\"0 0 24 24\"\n",
              "     width=\"24px\">\n",
              "    <g>\n",
              "        <path d=\"M19 3H5c-1.1 0-2 .9-2 2v14c0 1.1.9 2 2 2h14c1.1 0 2-.9 2-2V5c0-1.1-.9-2-2-2zM9 17H7v-7h2v7zm4 0h-2V7h2v10zm4 0h-2v-4h2v4z\"/>\n",
              "    </g>\n",
              "</svg>\n",
              "      </button>\n",
              "\n",
              "<style>\n",
              "  .colab-df-quickchart {\n",
              "      --bg-color: #E8F0FE;\n",
              "      --fill-color: #1967D2;\n",
              "      --hover-bg-color: #E2EBFA;\n",
              "      --hover-fill-color: #174EA6;\n",
              "      --disabled-fill-color: #AAA;\n",
              "      --disabled-bg-color: #DDD;\n",
              "  }\n",
              "\n",
              "  [theme=dark] .colab-df-quickchart {\n",
              "      --bg-color: #3B4455;\n",
              "      --fill-color: #D2E3FC;\n",
              "      --hover-bg-color: #434B5C;\n",
              "      --hover-fill-color: #FFFFFF;\n",
              "      --disabled-bg-color: #3B4455;\n",
              "      --disabled-fill-color: #666;\n",
              "  }\n",
              "\n",
              "  .colab-df-quickchart {\n",
              "    background-color: var(--bg-color);\n",
              "    border: none;\n",
              "    border-radius: 50%;\n",
              "    cursor: pointer;\n",
              "    display: none;\n",
              "    fill: var(--fill-color);\n",
              "    height: 32px;\n",
              "    padding: 0;\n",
              "    width: 32px;\n",
              "  }\n",
              "\n",
              "  .colab-df-quickchart:hover {\n",
              "    background-color: var(--hover-bg-color);\n",
              "    box-shadow: 0 1px 2px rgba(60, 64, 67, 0.3), 0 1px 3px 1px rgba(60, 64, 67, 0.15);\n",
              "    fill: var(--button-hover-fill-color);\n",
              "  }\n",
              "\n",
              "  .colab-df-quickchart-complete:disabled,\n",
              "  .colab-df-quickchart-complete:disabled:hover {\n",
              "    background-color: var(--disabled-bg-color);\n",
              "    fill: var(--disabled-fill-color);\n",
              "    box-shadow: none;\n",
              "  }\n",
              "\n",
              "  .colab-df-spinner {\n",
              "    border: 2px solid var(--fill-color);\n",
              "    border-color: transparent;\n",
              "    border-bottom-color: var(--fill-color);\n",
              "    animation:\n",
              "      spin 1s steps(1) infinite;\n",
              "  }\n",
              "\n",
              "  @keyframes spin {\n",
              "    0% {\n",
              "      border-color: transparent;\n",
              "      border-bottom-color: var(--fill-color);\n",
              "      border-left-color: var(--fill-color);\n",
              "    }\n",
              "    20% {\n",
              "      border-color: transparent;\n",
              "      border-left-color: var(--fill-color);\n",
              "      border-top-color: var(--fill-color);\n",
              "    }\n",
              "    30% {\n",
              "      border-color: transparent;\n",
              "      border-left-color: var(--fill-color);\n",
              "      border-top-color: var(--fill-color);\n",
              "      border-right-color: var(--fill-color);\n",
              "    }\n",
              "    40% {\n",
              "      border-color: transparent;\n",
              "      border-right-color: var(--fill-color);\n",
              "      border-top-color: var(--fill-color);\n",
              "    }\n",
              "    60% {\n",
              "      border-color: transparent;\n",
              "      border-right-color: var(--fill-color);\n",
              "    }\n",
              "    80% {\n",
              "      border-color: transparent;\n",
              "      border-right-color: var(--fill-color);\n",
              "      border-bottom-color: var(--fill-color);\n",
              "    }\n",
              "    90% {\n",
              "      border-color: transparent;\n",
              "      border-bottom-color: var(--fill-color);\n",
              "    }\n",
              "  }\n",
              "</style>\n",
              "\n",
              "      <script>\n",
              "        async function quickchart(key) {\n",
              "          const quickchartButtonEl =\n",
              "            document.querySelector('#' + key + ' button');\n",
              "          quickchartButtonEl.disabled = true;  // To prevent multiple clicks.\n",
              "          quickchartButtonEl.classList.add('colab-df-spinner');\n",
              "          try {\n",
              "            const charts = await google.colab.kernel.invokeFunction(\n",
              "                'suggestCharts', [key], {});\n",
              "          } catch (error) {\n",
              "            console.error('Error during call to suggestCharts:', error);\n",
              "          }\n",
              "          quickchartButtonEl.classList.remove('colab-df-spinner');\n",
              "          quickchartButtonEl.classList.add('colab-df-quickchart-complete');\n",
              "        }\n",
              "        (() => {\n",
              "          let quickchartButtonEl =\n",
              "            document.querySelector('#df-d21590eb-9a1f-41ca-8890-2980ab927f81 button');\n",
              "          quickchartButtonEl.style.display =\n",
              "            google.colab.kernel.accessAllowed ? 'block' : 'none';\n",
              "        })();\n",
              "      </script>\n",
              "    </div>\n",
              "\n",
              "    </div>\n",
              "  </div>\n"
            ],
            "application/vnd.google.colaboratory.intrinsic+json": {
              "type": "dataframe",
              "variable_name": "df_english",
              "summary": "{\n  \"name\": \"df_english\",\n  \"rows\": 14,\n  \"fields\": [\n    {\n      \"column\": \"firstName\",\n      \"properties\": {\n        \"dtype\": \"string\",\n        \"num_unique_values\": 13,\n        \"samples\": [\n          \"Sara\",\n          \"Ryan\",\n          \"Emma\"\n        ],\n        \"semantic_type\": \"\",\n        \"description\": \"\"\n      }\n    },\n    {\n      \"column\": \"lastName\",\n      \"properties\": {\n        \"dtype\": \"string\",\n        \"num_unique_values\": 11,\n        \"samples\": [\n          \"Jones\",\n          \"Smith\",\n          \"White\"\n        ],\n        \"semantic_type\": \"\",\n        \"description\": \"\"\n      }\n    },\n    {\n      \"column\": \"studentID\",\n      \"properties\": {\n        \"dtype\": \"number\",\n        \"std\": 24610,\n        \"min\": 10959,\n        \"max\": 90449,\n        \"num_unique_values\": 14,\n        \"samples\": [\n          90449,\n          25477,\n          10959\n        ],\n        \"semantic_type\": \"\",\n        \"description\": \"\"\n      }\n    },\n    {\n      \"column\": \"grade\",\n      \"properties\": {\n        \"dtype\": \"number\",\n        \"std\": 6,\n        \"min\": 76,\n        \"max\": 98,\n        \"num_unique_values\": 12,\n        \"samples\": [\n          91,\n          92,\n          95\n        ],\n        \"semantic_type\": \"\",\n        \"description\": \"\"\n      }\n    }\n  ]\n}"
            }
          },
          "metadata": {},
          "execution_count": 15
        }
      ],
      "source": [
        "# Print the first 5 rows of df_english using the .head method\n",
        "df_english.head(5)"
      ]
    },
    {
      "cell_type": "code",
      "execution_count": 20,
      "id": "G-RxspCFtrsf",
      "metadata": {
        "id": "G-RxspCFtrsf",
        "colab": {
          "base_uri": "https://localhost:8080/",
          "height": 206
        },
        "outputId": "9fca4272-fae7-4db7-ba1c-55a78894eaa9"
      },
      "outputs": [
        {
          "output_type": "execute_result",
          "data": {
            "text/plain": [
              "  firstName lastName  studentID  grade\n",
              "0     James    Jones      87707     92\n",
              "1     Sarah    Swift      61026     98\n",
              "2      Anne    Clark      90449     99\n",
              "3      Ryan   Thomas      62137     89\n",
              "4    Daniel    White      25477     87"
            ],
            "text/html": [
              "\n",
              "  <div id=\"df-ab6f249a-5e04-49ff-8257-4d9340f10b72\" class=\"colab-df-container\">\n",
              "    <div>\n",
              "<style scoped>\n",
              "    .dataframe tbody tr th:only-of-type {\n",
              "        vertical-align: middle;\n",
              "    }\n",
              "\n",
              "    .dataframe tbody tr th {\n",
              "        vertical-align: top;\n",
              "    }\n",
              "\n",
              "    .dataframe thead th {\n",
              "        text-align: right;\n",
              "    }\n",
              "</style>\n",
              "<table border=\"1\" class=\"dataframe\">\n",
              "  <thead>\n",
              "    <tr style=\"text-align: right;\">\n",
              "      <th></th>\n",
              "      <th>firstName</th>\n",
              "      <th>lastName</th>\n",
              "      <th>studentID</th>\n",
              "      <th>grade</th>\n",
              "    </tr>\n",
              "  </thead>\n",
              "  <tbody>\n",
              "    <tr>\n",
              "      <th>0</th>\n",
              "      <td>James</td>\n",
              "      <td>Jones</td>\n",
              "      <td>87707</td>\n",
              "      <td>92</td>\n",
              "    </tr>\n",
              "    <tr>\n",
              "      <th>1</th>\n",
              "      <td>Sarah</td>\n",
              "      <td>Swift</td>\n",
              "      <td>61026</td>\n",
              "      <td>98</td>\n",
              "    </tr>\n",
              "    <tr>\n",
              "      <th>2</th>\n",
              "      <td>Anne</td>\n",
              "      <td>Clark</td>\n",
              "      <td>90449</td>\n",
              "      <td>99</td>\n",
              "    </tr>\n",
              "    <tr>\n",
              "      <th>3</th>\n",
              "      <td>Ryan</td>\n",
              "      <td>Thomas</td>\n",
              "      <td>62137</td>\n",
              "      <td>89</td>\n",
              "    </tr>\n",
              "    <tr>\n",
              "      <th>4</th>\n",
              "      <td>Daniel</td>\n",
              "      <td>White</td>\n",
              "      <td>25477</td>\n",
              "      <td>87</td>\n",
              "    </tr>\n",
              "  </tbody>\n",
              "</table>\n",
              "</div>\n",
              "    <div class=\"colab-df-buttons\">\n",
              "\n",
              "  <div class=\"colab-df-container\">\n",
              "    <button class=\"colab-df-convert\" onclick=\"convertToInteractive('df-ab6f249a-5e04-49ff-8257-4d9340f10b72')\"\n",
              "            title=\"Convert this dataframe to an interactive table.\"\n",
              "            style=\"display:none;\">\n",
              "\n",
              "  <svg xmlns=\"http://www.w3.org/2000/svg\" height=\"24px\" viewBox=\"0 -960 960 960\">\n",
              "    <path d=\"M120-120v-720h720v720H120Zm60-500h600v-160H180v160Zm220 220h160v-160H400v160Zm0 220h160v-160H400v160ZM180-400h160v-160H180v160Zm440 0h160v-160H620v160ZM180-180h160v-160H180v160Zm440 0h160v-160H620v160Z\"/>\n",
              "  </svg>\n",
              "    </button>\n",
              "\n",
              "  <style>\n",
              "    .colab-df-container {\n",
              "      display:flex;\n",
              "      gap: 12px;\n",
              "    }\n",
              "\n",
              "    .colab-df-convert {\n",
              "      background-color: #E8F0FE;\n",
              "      border: none;\n",
              "      border-radius: 50%;\n",
              "      cursor: pointer;\n",
              "      display: none;\n",
              "      fill: #1967D2;\n",
              "      height: 32px;\n",
              "      padding: 0 0 0 0;\n",
              "      width: 32px;\n",
              "    }\n",
              "\n",
              "    .colab-df-convert:hover {\n",
              "      background-color: #E2EBFA;\n",
              "      box-shadow: 0px 1px 2px rgba(60, 64, 67, 0.3), 0px 1px 3px 1px rgba(60, 64, 67, 0.15);\n",
              "      fill: #174EA6;\n",
              "    }\n",
              "\n",
              "    .colab-df-buttons div {\n",
              "      margin-bottom: 4px;\n",
              "    }\n",
              "\n",
              "    [theme=dark] .colab-df-convert {\n",
              "      background-color: #3B4455;\n",
              "      fill: #D2E3FC;\n",
              "    }\n",
              "\n",
              "    [theme=dark] .colab-df-convert:hover {\n",
              "      background-color: #434B5C;\n",
              "      box-shadow: 0px 1px 3px 1px rgba(0, 0, 0, 0.15);\n",
              "      filter: drop-shadow(0px 1px 2px rgba(0, 0, 0, 0.3));\n",
              "      fill: #FFFFFF;\n",
              "    }\n",
              "  </style>\n",
              "\n",
              "    <script>\n",
              "      const buttonEl =\n",
              "        document.querySelector('#df-ab6f249a-5e04-49ff-8257-4d9340f10b72 button.colab-df-convert');\n",
              "      buttonEl.style.display =\n",
              "        google.colab.kernel.accessAllowed ? 'block' : 'none';\n",
              "\n",
              "      async function convertToInteractive(key) {\n",
              "        const element = document.querySelector('#df-ab6f249a-5e04-49ff-8257-4d9340f10b72');\n",
              "        const dataTable =\n",
              "          await google.colab.kernel.invokeFunction('convertToInteractive',\n",
              "                                                    [key], {});\n",
              "        if (!dataTable) return;\n",
              "\n",
              "        const docLinkHtml = 'Like what you see? Visit the ' +\n",
              "          '<a target=\"_blank\" href=https://colab.research.google.com/notebooks/data_table.ipynb>data table notebook</a>'\n",
              "          + ' to learn more about interactive tables.';\n",
              "        element.innerHTML = '';\n",
              "        dataTable['output_type'] = 'display_data';\n",
              "        await google.colab.output.renderOutput(dataTable, element);\n",
              "        const docLink = document.createElement('div');\n",
              "        docLink.innerHTML = docLinkHtml;\n",
              "        element.appendChild(docLink);\n",
              "      }\n",
              "    </script>\n",
              "  </div>\n",
              "\n",
              "\n",
              "    <div id=\"df-3ca6387d-ff5b-4be6-a195-00a7b99a911c\">\n",
              "      <button class=\"colab-df-quickchart\" onclick=\"quickchart('df-3ca6387d-ff5b-4be6-a195-00a7b99a911c')\"\n",
              "                title=\"Suggest charts\"\n",
              "                style=\"display:none;\">\n",
              "\n",
              "<svg xmlns=\"http://www.w3.org/2000/svg\" height=\"24px\"viewBox=\"0 0 24 24\"\n",
              "     width=\"24px\">\n",
              "    <g>\n",
              "        <path d=\"M19 3H5c-1.1 0-2 .9-2 2v14c0 1.1.9 2 2 2h14c1.1 0 2-.9 2-2V5c0-1.1-.9-2-2-2zM9 17H7v-7h2v7zm4 0h-2V7h2v10zm4 0h-2v-4h2v4z\"/>\n",
              "    </g>\n",
              "</svg>\n",
              "      </button>\n",
              "\n",
              "<style>\n",
              "  .colab-df-quickchart {\n",
              "      --bg-color: #E8F0FE;\n",
              "      --fill-color: #1967D2;\n",
              "      --hover-bg-color: #E2EBFA;\n",
              "      --hover-fill-color: #174EA6;\n",
              "      --disabled-fill-color: #AAA;\n",
              "      --disabled-bg-color: #DDD;\n",
              "  }\n",
              "\n",
              "  [theme=dark] .colab-df-quickchart {\n",
              "      --bg-color: #3B4455;\n",
              "      --fill-color: #D2E3FC;\n",
              "      --hover-bg-color: #434B5C;\n",
              "      --hover-fill-color: #FFFFFF;\n",
              "      --disabled-bg-color: #3B4455;\n",
              "      --disabled-fill-color: #666;\n",
              "  }\n",
              "\n",
              "  .colab-df-quickchart {\n",
              "    background-color: var(--bg-color);\n",
              "    border: none;\n",
              "    border-radius: 50%;\n",
              "    cursor: pointer;\n",
              "    display: none;\n",
              "    fill: var(--fill-color);\n",
              "    height: 32px;\n",
              "    padding: 0;\n",
              "    width: 32px;\n",
              "  }\n",
              "\n",
              "  .colab-df-quickchart:hover {\n",
              "    background-color: var(--hover-bg-color);\n",
              "    box-shadow: 0 1px 2px rgba(60, 64, 67, 0.3), 0 1px 3px 1px rgba(60, 64, 67, 0.15);\n",
              "    fill: var(--button-hover-fill-color);\n",
              "  }\n",
              "\n",
              "  .colab-df-quickchart-complete:disabled,\n",
              "  .colab-df-quickchart-complete:disabled:hover {\n",
              "    background-color: var(--disabled-bg-color);\n",
              "    fill: var(--disabled-fill-color);\n",
              "    box-shadow: none;\n",
              "  }\n",
              "\n",
              "  .colab-df-spinner {\n",
              "    border: 2px solid var(--fill-color);\n",
              "    border-color: transparent;\n",
              "    border-bottom-color: var(--fill-color);\n",
              "    animation:\n",
              "      spin 1s steps(1) infinite;\n",
              "  }\n",
              "\n",
              "  @keyframes spin {\n",
              "    0% {\n",
              "      border-color: transparent;\n",
              "      border-bottom-color: var(--fill-color);\n",
              "      border-left-color: var(--fill-color);\n",
              "    }\n",
              "    20% {\n",
              "      border-color: transparent;\n",
              "      border-left-color: var(--fill-color);\n",
              "      border-top-color: var(--fill-color);\n",
              "    }\n",
              "    30% {\n",
              "      border-color: transparent;\n",
              "      border-left-color: var(--fill-color);\n",
              "      border-top-color: var(--fill-color);\n",
              "      border-right-color: var(--fill-color);\n",
              "    }\n",
              "    40% {\n",
              "      border-color: transparent;\n",
              "      border-right-color: var(--fill-color);\n",
              "      border-top-color: var(--fill-color);\n",
              "    }\n",
              "    60% {\n",
              "      border-color: transparent;\n",
              "      border-right-color: var(--fill-color);\n",
              "    }\n",
              "    80% {\n",
              "      border-color: transparent;\n",
              "      border-right-color: var(--fill-color);\n",
              "      border-bottom-color: var(--fill-color);\n",
              "    }\n",
              "    90% {\n",
              "      border-color: transparent;\n",
              "      border-bottom-color: var(--fill-color);\n",
              "    }\n",
              "  }\n",
              "</style>\n",
              "\n",
              "      <script>\n",
              "        async function quickchart(key) {\n",
              "          const quickchartButtonEl =\n",
              "            document.querySelector('#' + key + ' button');\n",
              "          quickchartButtonEl.disabled = true;  // To prevent multiple clicks.\n",
              "          quickchartButtonEl.classList.add('colab-df-spinner');\n",
              "          try {\n",
              "            const charts = await google.colab.kernel.invokeFunction(\n",
              "                'suggestCharts', [key], {});\n",
              "          } catch (error) {\n",
              "            console.error('Error during call to suggestCharts:', error);\n",
              "          }\n",
              "          quickchartButtonEl.classList.remove('colab-df-spinner');\n",
              "          quickchartButtonEl.classList.add('colab-df-quickchart-complete');\n",
              "        }\n",
              "        (() => {\n",
              "          let quickchartButtonEl =\n",
              "            document.querySelector('#df-3ca6387d-ff5b-4be6-a195-00a7b99a911c button');\n",
              "          quickchartButtonEl.style.display =\n",
              "            google.colab.kernel.accessAllowed ? 'block' : 'none';\n",
              "        })();\n",
              "      </script>\n",
              "    </div>\n",
              "\n",
              "    </div>\n",
              "  </div>\n"
            ],
            "application/vnd.google.colaboratory.intrinsic+json": {
              "type": "dataframe",
              "variable_name": "df_math",
              "summary": "{\n  \"name\": \"df_math\",\n  \"rows\": 14,\n  \"fields\": [\n    {\n      \"column\": \"firstName\",\n      \"properties\": {\n        \"dtype\": \"string\",\n        \"num_unique_values\": 13,\n        \"samples\": [\n          \"Isabella\",\n          \"David\",\n          \"James\"\n        ],\n        \"semantic_type\": \"\",\n        \"description\": \"\"\n      }\n    },\n    {\n      \"column\": \"lastName\",\n      \"properties\": {\n        \"dtype\": \"string\",\n        \"num_unique_values\": 11,\n        \"samples\": [\n          \"Doe\",\n          \"Jones\",\n          \"Curry\"\n        ],\n        \"semantic_type\": \"\",\n        \"description\": \"\"\n      }\n    },\n    {\n      \"column\": \"studentID\",\n      \"properties\": {\n        \"dtype\": \"number\",\n        \"std\": 24610,\n        \"min\": 10959,\n        \"max\": 90449,\n        \"num_unique_values\": 14,\n        \"samples\": [\n          42257,\n          30303,\n          87707\n        ],\n        \"semantic_type\": \"\",\n        \"description\": \"\"\n      }\n    },\n    {\n      \"column\": \"grade\",\n      \"properties\": {\n        \"dtype\": \"number\",\n        \"std\": 5,\n        \"min\": 79,\n        \"max\": 99,\n        \"num_unique_values\": 12,\n        \"samples\": [\n          79,\n          88,\n          92\n        ],\n        \"semantic_type\": \"\",\n        \"description\": \"\"\n      }\n    }\n  ]\n}"
            }
          },
          "metadata": {},
          "execution_count": 20
        }
      ],
      "source": [
        "# Print the first 5 rows of df_math using the .head method\n",
        "df_math.head(5)"
      ]
    },
    {
      "cell_type": "code",
      "execution_count": 18,
      "id": "8fb240f4-6358-4f61-ab12-f0134c0144a8",
      "metadata": {
        "id": "8fb240f4-6358-4f61-ab12-f0134c0144a8"
      },
      "outputs": [],
      "source": [
        "# Merging the DataFrames on 'studentID'\n",
        "df_studentGrades = pd.merge(df_english, df_math, on='studentID', suffixes=('_English', '_Math'))"
      ]
    },
    {
      "cell_type": "code",
      "execution_count": null,
      "id": "a9e571ef-d61b-4594-a181-503dca3fe49b",
      "metadata": {
        "id": "a9e571ef-d61b-4594-a181-503dca3fe49b"
      },
      "outputs": [],
      "source": [
        "# Take a look at the data contained in the csv files. Why is studentID chosen as the key?\n",
        "# (0.5 mark)\n",
        "#Keys are unique"
      ]
    },
    {
      "cell_type": "code",
      "execution_count": null,
      "id": "P9DzFohwzluP",
      "metadata": {
        "id": "P9DzFohwzluP"
      },
      "outputs": [],
      "source": [
        "# You will notice that all the column names got suffixes except studentID.\n",
        "# Explain why pandas didn't add suffixes to the studentID column.\n",
        "#"
      ]
    },
    {
      "cell_type": "code",
      "execution_count": 38,
      "id": "e23aaa90-fb4c-43f9-a3fc-1ae850bf65ab",
      "metadata": {
        "id": "e23aaa90-fb4c-43f9-a3fc-1ae850bf65ab",
        "colab": {
          "base_uri": "https://localhost:8080/",
          "height": 373
        },
        "outputId": "950ed6d8-9a01-4f91-a480-01ca4e11a7fa"
      },
      "outputs": [
        {
          "output_type": "error",
          "ename": "KeyError",
          "evalue": "\"None of [Index(['grade_English', 'grade_Math'], dtype='object')] are in the [columns]\"",
          "traceback": [
            "\u001b[0;31m---------------------------------------------------------------------------\u001b[0m",
            "\u001b[0;31mKeyError\u001b[0m                                  Traceback (most recent call last)",
            "\u001b[0;32m/tmp/ipython-input-2508407274.py\u001b[0m in \u001b[0;36m<cell line: 0>\u001b[0;34m()\u001b[0m\n\u001b[1;32m      1\u001b[0m \u001b[0;31m# Let's calculate the average GPA across the two classes for each student\u001b[0m\u001b[0;34m\u001b[0m\u001b[0;34m\u001b[0m\u001b[0m\n\u001b[0;32m----> 2\u001b[0;31m \u001b[0mdf_studentGrades\u001b[0m\u001b[0;34m[\u001b[0m\u001b[0;34m'GPA'\u001b[0m\u001b[0;34m]\u001b[0m \u001b[0;34m=\u001b[0m \u001b[0mdf_studentGrades\u001b[0m\u001b[0;34m[\u001b[0m\u001b[0;34m[\u001b[0m\u001b[0;34m'grade_English'\u001b[0m\u001b[0;34m,\u001b[0m \u001b[0;34m'grade_Math'\u001b[0m\u001b[0;34m]\u001b[0m\u001b[0;34m]\u001b[0m\u001b[0;34m.\u001b[0m\u001b[0mmean\u001b[0m\u001b[0;34m(\u001b[0m\u001b[0maxis\u001b[0m\u001b[0;34m=\u001b[0m\u001b[0;36m1\u001b[0m\u001b[0;34m)\u001b[0m\u001b[0;34m\u001b[0m\u001b[0;34m\u001b[0m\u001b[0m\n\u001b[0m\u001b[1;32m      3\u001b[0m \u001b[0;34m\u001b[0m\u001b[0m\n\u001b[1;32m      4\u001b[0m \u001b[0;31m# Now let's check the data! In the space below, please use the .head method to display the dataframe.\u001b[0m\u001b[0;34m\u001b[0m\u001b[0;34m\u001b[0m\u001b[0m\n\u001b[1;32m      5\u001b[0m \u001b[0;31m# (1 mark)\u001b[0m\u001b[0;34m\u001b[0m\u001b[0;34m\u001b[0m\u001b[0m\n",
            "\u001b[0;32m/usr/local/lib/python3.12/dist-packages/pandas/core/frame.py\u001b[0m in \u001b[0;36m__getitem__\u001b[0;34m(self, key)\u001b[0m\n\u001b[1;32m   4106\u001b[0m             \u001b[0;32mif\u001b[0m \u001b[0mis_iterator\u001b[0m\u001b[0;34m(\u001b[0m\u001b[0mkey\u001b[0m\u001b[0;34m)\u001b[0m\u001b[0;34m:\u001b[0m\u001b[0;34m\u001b[0m\u001b[0;34m\u001b[0m\u001b[0m\n\u001b[1;32m   4107\u001b[0m                 \u001b[0mkey\u001b[0m \u001b[0;34m=\u001b[0m \u001b[0mlist\u001b[0m\u001b[0;34m(\u001b[0m\u001b[0mkey\u001b[0m\u001b[0;34m)\u001b[0m\u001b[0;34m\u001b[0m\u001b[0;34m\u001b[0m\u001b[0m\n\u001b[0;32m-> 4108\u001b[0;31m             \u001b[0mindexer\u001b[0m \u001b[0;34m=\u001b[0m \u001b[0mself\u001b[0m\u001b[0;34m.\u001b[0m\u001b[0mcolumns\u001b[0m\u001b[0;34m.\u001b[0m\u001b[0m_get_indexer_strict\u001b[0m\u001b[0;34m(\u001b[0m\u001b[0mkey\u001b[0m\u001b[0;34m,\u001b[0m \u001b[0;34m\"columns\"\u001b[0m\u001b[0;34m)\u001b[0m\u001b[0;34m[\u001b[0m\u001b[0;36m1\u001b[0m\u001b[0;34m]\u001b[0m\u001b[0;34m\u001b[0m\u001b[0;34m\u001b[0m\u001b[0m\n\u001b[0m\u001b[1;32m   4109\u001b[0m \u001b[0;34m\u001b[0m\u001b[0m\n\u001b[1;32m   4110\u001b[0m         \u001b[0;31m# take() does not accept boolean indexers\u001b[0m\u001b[0;34m\u001b[0m\u001b[0;34m\u001b[0m\u001b[0m\n",
            "\u001b[0;32m/usr/local/lib/python3.12/dist-packages/pandas/core/indexes/base.py\u001b[0m in \u001b[0;36m_get_indexer_strict\u001b[0;34m(self, key, axis_name)\u001b[0m\n\u001b[1;32m   6198\u001b[0m             \u001b[0mkeyarr\u001b[0m\u001b[0;34m,\u001b[0m \u001b[0mindexer\u001b[0m\u001b[0;34m,\u001b[0m \u001b[0mnew_indexer\u001b[0m \u001b[0;34m=\u001b[0m \u001b[0mself\u001b[0m\u001b[0;34m.\u001b[0m\u001b[0m_reindex_non_unique\u001b[0m\u001b[0;34m(\u001b[0m\u001b[0mkeyarr\u001b[0m\u001b[0;34m)\u001b[0m\u001b[0;34m\u001b[0m\u001b[0;34m\u001b[0m\u001b[0m\n\u001b[1;32m   6199\u001b[0m \u001b[0;34m\u001b[0m\u001b[0m\n\u001b[0;32m-> 6200\u001b[0;31m         \u001b[0mself\u001b[0m\u001b[0;34m.\u001b[0m\u001b[0m_raise_if_missing\u001b[0m\u001b[0;34m(\u001b[0m\u001b[0mkeyarr\u001b[0m\u001b[0;34m,\u001b[0m \u001b[0mindexer\u001b[0m\u001b[0;34m,\u001b[0m \u001b[0maxis_name\u001b[0m\u001b[0;34m)\u001b[0m\u001b[0;34m\u001b[0m\u001b[0;34m\u001b[0m\u001b[0m\n\u001b[0m\u001b[1;32m   6201\u001b[0m \u001b[0;34m\u001b[0m\u001b[0m\n\u001b[1;32m   6202\u001b[0m         \u001b[0mkeyarr\u001b[0m \u001b[0;34m=\u001b[0m \u001b[0mself\u001b[0m\u001b[0;34m.\u001b[0m\u001b[0mtake\u001b[0m\u001b[0;34m(\u001b[0m\u001b[0mindexer\u001b[0m\u001b[0;34m)\u001b[0m\u001b[0;34m\u001b[0m\u001b[0;34m\u001b[0m\u001b[0m\n",
            "\u001b[0;32m/usr/local/lib/python3.12/dist-packages/pandas/core/indexes/base.py\u001b[0m in \u001b[0;36m_raise_if_missing\u001b[0;34m(self, key, indexer, axis_name)\u001b[0m\n\u001b[1;32m   6247\u001b[0m         \u001b[0;32mif\u001b[0m \u001b[0mnmissing\u001b[0m\u001b[0;34m:\u001b[0m\u001b[0;34m\u001b[0m\u001b[0;34m\u001b[0m\u001b[0m\n\u001b[1;32m   6248\u001b[0m             \u001b[0;32mif\u001b[0m \u001b[0mnmissing\u001b[0m \u001b[0;34m==\u001b[0m \u001b[0mlen\u001b[0m\u001b[0;34m(\u001b[0m\u001b[0mindexer\u001b[0m\u001b[0;34m)\u001b[0m\u001b[0;34m:\u001b[0m\u001b[0;34m\u001b[0m\u001b[0;34m\u001b[0m\u001b[0m\n\u001b[0;32m-> 6249\u001b[0;31m                 \u001b[0;32mraise\u001b[0m \u001b[0mKeyError\u001b[0m\u001b[0;34m(\u001b[0m\u001b[0;34mf\"None of [{key}] are in the [{axis_name}]\"\u001b[0m\u001b[0;34m)\u001b[0m\u001b[0;34m\u001b[0m\u001b[0;34m\u001b[0m\u001b[0m\n\u001b[0m\u001b[1;32m   6250\u001b[0m \u001b[0;34m\u001b[0m\u001b[0m\n\u001b[1;32m   6251\u001b[0m             \u001b[0mnot_found\u001b[0m \u001b[0;34m=\u001b[0m \u001b[0mlist\u001b[0m\u001b[0;34m(\u001b[0m\u001b[0mensure_index\u001b[0m\u001b[0;34m(\u001b[0m\u001b[0mkey\u001b[0m\u001b[0;34m)\u001b[0m\u001b[0;34m[\u001b[0m\u001b[0mmissing_mask\u001b[0m\u001b[0;34m.\u001b[0m\u001b[0mnonzero\u001b[0m\u001b[0;34m(\u001b[0m\u001b[0;34m)\u001b[0m\u001b[0;34m[\u001b[0m\u001b[0;36m0\u001b[0m\u001b[0;34m]\u001b[0m\u001b[0;34m]\u001b[0m\u001b[0;34m.\u001b[0m\u001b[0munique\u001b[0m\u001b[0;34m(\u001b[0m\u001b[0;34m)\u001b[0m\u001b[0;34m)\u001b[0m\u001b[0;34m\u001b[0m\u001b[0;34m\u001b[0m\u001b[0m\n",
            "\u001b[0;31mKeyError\u001b[0m: \"None of [Index(['grade_English', 'grade_Math'], dtype='object')] are in the [columns]\""
          ]
        }
      ],
      "source": [
        "# Let's calculate the average GPA across the two classes for each student\n",
        "df_studentGrades['GPA'] = df_studentGrades[['grade_English', 'grade_Math']].mean(axis=1)\n",
        "\n",
        "# Now let's check the data! In the space below, please use the .head method to display the dataframe.\n",
        "# (1 mark)\n",
        "df_studentGrades.head()"
      ]
    },
    {
      "cell_type": "code",
      "execution_count": 29,
      "id": "9f28f907-7e7d-4be4-87b8-db03fef69dfa",
      "metadata": {
        "id": "9f28f907-7e7d-4be4-87b8-db03fef69dfa"
      },
      "outputs": [],
      "source": [
        "# Do you notice a problem? The rows for first name and last name have been duplicated!\n",
        "# .drop(columns=['<column_name1>','<column_name2>'] is a Pandas method that can be used to drop columns.\n",
        "# In the space below, drop the first name and last name associated with the math .csv file.\n",
        "# (2 mark)\n",
        "df_studentGrades = df_studentGrades.drop(columns=['firstName_Math', 'lastName_Math'])"
      ]
    },
    {
      "cell_type": "code",
      "execution_count": 30,
      "id": "b58186b4-b60e-455a-990e-b24169964f98",
      "metadata": {
        "id": "b58186b4-b60e-455a-990e-b24169964f98",
        "colab": {
          "base_uri": "https://localhost:8080/",
          "height": 206
        },
        "outputId": "a6b0dfd4-633a-44c4-fc8f-d4c33748787c"
      },
      "outputs": [
        {
          "output_type": "execute_result",
          "data": {
            "text/plain": [
              "  firstName lastName_English  studentID  grade_English  grade_Math   GPA\n",
              "0      Emma            Smith      10959             95          90  92.5\n",
              "1    Sophia         Robinson      75175             88          95  91.5\n",
              "2      Emma           Taylor      42257             87          85  86.0\n",
              "3     David         Robinson      55148             86          87  86.5\n",
              "4   Stephen            Curry      30303             90          88  89.0"
            ],
            "text/html": [
              "\n",
              "  <div id=\"df-17ed5f28-e264-4cbf-bd62-8b1bb58b3669\" class=\"colab-df-container\">\n",
              "    <div>\n",
              "<style scoped>\n",
              "    .dataframe tbody tr th:only-of-type {\n",
              "        vertical-align: middle;\n",
              "    }\n",
              "\n",
              "    .dataframe tbody tr th {\n",
              "        vertical-align: top;\n",
              "    }\n",
              "\n",
              "    .dataframe thead th {\n",
              "        text-align: right;\n",
              "    }\n",
              "</style>\n",
              "<table border=\"1\" class=\"dataframe\">\n",
              "  <thead>\n",
              "    <tr style=\"text-align: right;\">\n",
              "      <th></th>\n",
              "      <th>firstName</th>\n",
              "      <th>lastName_English</th>\n",
              "      <th>studentID</th>\n",
              "      <th>grade_English</th>\n",
              "      <th>grade_Math</th>\n",
              "      <th>GPA</th>\n",
              "    </tr>\n",
              "  </thead>\n",
              "  <tbody>\n",
              "    <tr>\n",
              "      <th>0</th>\n",
              "      <td>Emma</td>\n",
              "      <td>Smith</td>\n",
              "      <td>10959</td>\n",
              "      <td>95</td>\n",
              "      <td>90</td>\n",
              "      <td>92.5</td>\n",
              "    </tr>\n",
              "    <tr>\n",
              "      <th>1</th>\n",
              "      <td>Sophia</td>\n",
              "      <td>Robinson</td>\n",
              "      <td>75175</td>\n",
              "      <td>88</td>\n",
              "      <td>95</td>\n",
              "      <td>91.5</td>\n",
              "    </tr>\n",
              "    <tr>\n",
              "      <th>2</th>\n",
              "      <td>Emma</td>\n",
              "      <td>Taylor</td>\n",
              "      <td>42257</td>\n",
              "      <td>87</td>\n",
              "      <td>85</td>\n",
              "      <td>86.0</td>\n",
              "    </tr>\n",
              "    <tr>\n",
              "      <th>3</th>\n",
              "      <td>David</td>\n",
              "      <td>Robinson</td>\n",
              "      <td>55148</td>\n",
              "      <td>86</td>\n",
              "      <td>87</td>\n",
              "      <td>86.5</td>\n",
              "    </tr>\n",
              "    <tr>\n",
              "      <th>4</th>\n",
              "      <td>Stephen</td>\n",
              "      <td>Curry</td>\n",
              "      <td>30303</td>\n",
              "      <td>90</td>\n",
              "      <td>88</td>\n",
              "      <td>89.0</td>\n",
              "    </tr>\n",
              "  </tbody>\n",
              "</table>\n",
              "</div>\n",
              "    <div class=\"colab-df-buttons\">\n",
              "\n",
              "  <div class=\"colab-df-container\">\n",
              "    <button class=\"colab-df-convert\" onclick=\"convertToInteractive('df-17ed5f28-e264-4cbf-bd62-8b1bb58b3669')\"\n",
              "            title=\"Convert this dataframe to an interactive table.\"\n",
              "            style=\"display:none;\">\n",
              "\n",
              "  <svg xmlns=\"http://www.w3.org/2000/svg\" height=\"24px\" viewBox=\"0 -960 960 960\">\n",
              "    <path d=\"M120-120v-720h720v720H120Zm60-500h600v-160H180v160Zm220 220h160v-160H400v160Zm0 220h160v-160H400v160ZM180-400h160v-160H180v160Zm440 0h160v-160H620v160ZM180-180h160v-160H180v160Zm440 0h160v-160H620v160Z\"/>\n",
              "  </svg>\n",
              "    </button>\n",
              "\n",
              "  <style>\n",
              "    .colab-df-container {\n",
              "      display:flex;\n",
              "      gap: 12px;\n",
              "    }\n",
              "\n",
              "    .colab-df-convert {\n",
              "      background-color: #E8F0FE;\n",
              "      border: none;\n",
              "      border-radius: 50%;\n",
              "      cursor: pointer;\n",
              "      display: none;\n",
              "      fill: #1967D2;\n",
              "      height: 32px;\n",
              "      padding: 0 0 0 0;\n",
              "      width: 32px;\n",
              "    }\n",
              "\n",
              "    .colab-df-convert:hover {\n",
              "      background-color: #E2EBFA;\n",
              "      box-shadow: 0px 1px 2px rgba(60, 64, 67, 0.3), 0px 1px 3px 1px rgba(60, 64, 67, 0.15);\n",
              "      fill: #174EA6;\n",
              "    }\n",
              "\n",
              "    .colab-df-buttons div {\n",
              "      margin-bottom: 4px;\n",
              "    }\n",
              "\n",
              "    [theme=dark] .colab-df-convert {\n",
              "      background-color: #3B4455;\n",
              "      fill: #D2E3FC;\n",
              "    }\n",
              "\n",
              "    [theme=dark] .colab-df-convert:hover {\n",
              "      background-color: #434B5C;\n",
              "      box-shadow: 0px 1px 3px 1px rgba(0, 0, 0, 0.15);\n",
              "      filter: drop-shadow(0px 1px 2px rgba(0, 0, 0, 0.3));\n",
              "      fill: #FFFFFF;\n",
              "    }\n",
              "  </style>\n",
              "\n",
              "    <script>\n",
              "      const buttonEl =\n",
              "        document.querySelector('#df-17ed5f28-e264-4cbf-bd62-8b1bb58b3669 button.colab-df-convert');\n",
              "      buttonEl.style.display =\n",
              "        google.colab.kernel.accessAllowed ? 'block' : 'none';\n",
              "\n",
              "      async function convertToInteractive(key) {\n",
              "        const element = document.querySelector('#df-17ed5f28-e264-4cbf-bd62-8b1bb58b3669');\n",
              "        const dataTable =\n",
              "          await google.colab.kernel.invokeFunction('convertToInteractive',\n",
              "                                                    [key], {});\n",
              "        if (!dataTable) return;\n",
              "\n",
              "        const docLinkHtml = 'Like what you see? Visit the ' +\n",
              "          '<a target=\"_blank\" href=https://colab.research.google.com/notebooks/data_table.ipynb>data table notebook</a>'\n",
              "          + ' to learn more about interactive tables.';\n",
              "        element.innerHTML = '';\n",
              "        dataTable['output_type'] = 'display_data';\n",
              "        await google.colab.output.renderOutput(dataTable, element);\n",
              "        const docLink = document.createElement('div');\n",
              "        docLink.innerHTML = docLinkHtml;\n",
              "        element.appendChild(docLink);\n",
              "      }\n",
              "    </script>\n",
              "  </div>\n",
              "\n",
              "\n",
              "    <div id=\"df-8b0508cc-01d5-4612-b618-77e635eca9b4\">\n",
              "      <button class=\"colab-df-quickchart\" onclick=\"quickchart('df-8b0508cc-01d5-4612-b618-77e635eca9b4')\"\n",
              "                title=\"Suggest charts\"\n",
              "                style=\"display:none;\">\n",
              "\n",
              "<svg xmlns=\"http://www.w3.org/2000/svg\" height=\"24px\"viewBox=\"0 0 24 24\"\n",
              "     width=\"24px\">\n",
              "    <g>\n",
              "        <path d=\"M19 3H5c-1.1 0-2 .9-2 2v14c0 1.1.9 2 2 2h14c1.1 0 2-.9 2-2V5c0-1.1-.9-2-2-2zM9 17H7v-7h2v7zm4 0h-2V7h2v10zm4 0h-2v-4h2v4z\"/>\n",
              "    </g>\n",
              "</svg>\n",
              "      </button>\n",
              "\n",
              "<style>\n",
              "  .colab-df-quickchart {\n",
              "      --bg-color: #E8F0FE;\n",
              "      --fill-color: #1967D2;\n",
              "      --hover-bg-color: #E2EBFA;\n",
              "      --hover-fill-color: #174EA6;\n",
              "      --disabled-fill-color: #AAA;\n",
              "      --disabled-bg-color: #DDD;\n",
              "  }\n",
              "\n",
              "  [theme=dark] .colab-df-quickchart {\n",
              "      --bg-color: #3B4455;\n",
              "      --fill-color: #D2E3FC;\n",
              "      --hover-bg-color: #434B5C;\n",
              "      --hover-fill-color: #FFFFFF;\n",
              "      --disabled-bg-color: #3B4455;\n",
              "      --disabled-fill-color: #666;\n",
              "  }\n",
              "\n",
              "  .colab-df-quickchart {\n",
              "    background-color: var(--bg-color);\n",
              "    border: none;\n",
              "    border-radius: 50%;\n",
              "    cursor: pointer;\n",
              "    display: none;\n",
              "    fill: var(--fill-color);\n",
              "    height: 32px;\n",
              "    padding: 0;\n",
              "    width: 32px;\n",
              "  }\n",
              "\n",
              "  .colab-df-quickchart:hover {\n",
              "    background-color: var(--hover-bg-color);\n",
              "    box-shadow: 0 1px 2px rgba(60, 64, 67, 0.3), 0 1px 3px 1px rgba(60, 64, 67, 0.15);\n",
              "    fill: var(--button-hover-fill-color);\n",
              "  }\n",
              "\n",
              "  .colab-df-quickchart-complete:disabled,\n",
              "  .colab-df-quickchart-complete:disabled:hover {\n",
              "    background-color: var(--disabled-bg-color);\n",
              "    fill: var(--disabled-fill-color);\n",
              "    box-shadow: none;\n",
              "  }\n",
              "\n",
              "  .colab-df-spinner {\n",
              "    border: 2px solid var(--fill-color);\n",
              "    border-color: transparent;\n",
              "    border-bottom-color: var(--fill-color);\n",
              "    animation:\n",
              "      spin 1s steps(1) infinite;\n",
              "  }\n",
              "\n",
              "  @keyframes spin {\n",
              "    0% {\n",
              "      border-color: transparent;\n",
              "      border-bottom-color: var(--fill-color);\n",
              "      border-left-color: var(--fill-color);\n",
              "    }\n",
              "    20% {\n",
              "      border-color: transparent;\n",
              "      border-left-color: var(--fill-color);\n",
              "      border-top-color: var(--fill-color);\n",
              "    }\n",
              "    30% {\n",
              "      border-color: transparent;\n",
              "      border-left-color: var(--fill-color);\n",
              "      border-top-color: var(--fill-color);\n",
              "      border-right-color: var(--fill-color);\n",
              "    }\n",
              "    40% {\n",
              "      border-color: transparent;\n",
              "      border-right-color: var(--fill-color);\n",
              "      border-top-color: var(--fill-color);\n",
              "    }\n",
              "    60% {\n",
              "      border-color: transparent;\n",
              "      border-right-color: var(--fill-color);\n",
              "    }\n",
              "    80% {\n",
              "      border-color: transparent;\n",
              "      border-right-color: var(--fill-color);\n",
              "      border-bottom-color: var(--fill-color);\n",
              "    }\n",
              "    90% {\n",
              "      border-color: transparent;\n",
              "      border-bottom-color: var(--fill-color);\n",
              "    }\n",
              "  }\n",
              "</style>\n",
              "\n",
              "      <script>\n",
              "        async function quickchart(key) {\n",
              "          const quickchartButtonEl =\n",
              "            document.querySelector('#' + key + ' button');\n",
              "          quickchartButtonEl.disabled = true;  // To prevent multiple clicks.\n",
              "          quickchartButtonEl.classList.add('colab-df-spinner');\n",
              "          try {\n",
              "            const charts = await google.colab.kernel.invokeFunction(\n",
              "                'suggestCharts', [key], {});\n",
              "          } catch (error) {\n",
              "            console.error('Error during call to suggestCharts:', error);\n",
              "          }\n",
              "          quickchartButtonEl.classList.remove('colab-df-spinner');\n",
              "          quickchartButtonEl.classList.add('colab-df-quickchart-complete');\n",
              "        }\n",
              "        (() => {\n",
              "          let quickchartButtonEl =\n",
              "            document.querySelector('#df-8b0508cc-01d5-4612-b618-77e635eca9b4 button');\n",
              "          quickchartButtonEl.style.display =\n",
              "            google.colab.kernel.accessAllowed ? 'block' : 'none';\n",
              "        })();\n",
              "      </script>\n",
              "    </div>\n",
              "\n",
              "    </div>\n",
              "  </div>\n"
            ],
            "application/vnd.google.colaboratory.intrinsic+json": {
              "type": "dataframe",
              "variable_name": "df_studentGrades",
              "summary": "{\n  \"name\": \"df_studentGrades\",\n  \"rows\": 14,\n  \"fields\": [\n    {\n      \"column\": \"firstName\",\n      \"properties\": {\n        \"dtype\": \"string\",\n        \"num_unique_values\": 13,\n        \"samples\": [\n          \"Sara\",\n          \"Ryan\",\n          \"Emma\"\n        ],\n        \"semantic_type\": \"\",\n        \"description\": \"\"\n      }\n    },\n    {\n      \"column\": \"lastName_English\",\n      \"properties\": {\n        \"dtype\": \"string\",\n        \"num_unique_values\": 11,\n        \"samples\": [\n          \"Jones\",\n          \"Smith\",\n          \"White\"\n        ],\n        \"semantic_type\": \"\",\n        \"description\": \"\"\n      }\n    },\n    {\n      \"column\": \"studentID\",\n      \"properties\": {\n        \"dtype\": \"number\",\n        \"std\": 24610,\n        \"min\": 10959,\n        \"max\": 90449,\n        \"num_unique_values\": 14,\n        \"samples\": [\n          90449,\n          25477,\n          10959\n        ],\n        \"semantic_type\": \"\",\n        \"description\": \"\"\n      }\n    },\n    {\n      \"column\": \"grade_English\",\n      \"properties\": {\n        \"dtype\": \"number\",\n        \"std\": 6,\n        \"min\": 76,\n        \"max\": 98,\n        \"num_unique_values\": 12,\n        \"samples\": [\n          91,\n          92,\n          95\n        ],\n        \"semantic_type\": \"\",\n        \"description\": \"\"\n      }\n    },\n    {\n      \"column\": \"grade_Math\",\n      \"properties\": {\n        \"dtype\": \"number\",\n        \"std\": 5,\n        \"min\": 79,\n        \"max\": 99,\n        \"num_unique_values\": 12,\n        \"samples\": [\n          89,\n          99,\n          90\n        ],\n        \"semantic_type\": \"\",\n        \"description\": \"\"\n      }\n    },\n    {\n      \"column\": \"GPA\",\n      \"properties\": {\n        \"dtype\": \"number\",\n        \"std\": 3.6360904617671226,\n        \"min\": 82.0,\n        \"max\": 92.5,\n        \"num_unique_values\": 11,\n        \"samples\": [\n          83.5,\n          92.5,\n          92.0\n        ],\n        \"semantic_type\": \"\",\n        \"description\": \"\"\n      }\n    }\n  ]\n}"
            }
          },
          "metadata": {},
          "execution_count": 30
        }
      ],
      "source": [
        "# Let's display the data again. Use an appropriate method (hint: already used before)\n",
        "# (0.5 mark)\n",
        "df_studentGrades.head()"
      ]
    },
    {
      "cell_type": "code",
      "execution_count": 32,
      "id": "f0476460-6156-49ee-bc84-0878207e2dfa",
      "metadata": {
        "id": "f0476460-6156-49ee-bc84-0878207e2dfa",
        "colab": {
          "base_uri": "https://localhost:8080/",
          "height": 206
        },
        "outputId": "1975f58c-5420-4f50-e83c-70b0c39ad1e0"
      },
      "outputs": [
        {
          "output_type": "execute_result",
          "data": {
            "text/plain": [
              "  firstName  lastName  studentID  englishGrade  mathGrade   GPA\n",
              "0      Emma     Smith      10959            95         90  92.5\n",
              "1    Sophia  Robinson      75175            88         95  91.5\n",
              "2      Emma    Taylor      42257            87         85  86.0\n",
              "3     David  Robinson      55148            86         87  86.5\n",
              "4   Stephen     Curry      30303            90         88  89.0"
            ],
            "text/html": [
              "\n",
              "  <div id=\"df-3e430e0c-0e20-41de-ab56-e3b904612cae\" class=\"colab-df-container\">\n",
              "    <div>\n",
              "<style scoped>\n",
              "    .dataframe tbody tr th:only-of-type {\n",
              "        vertical-align: middle;\n",
              "    }\n",
              "\n",
              "    .dataframe tbody tr th {\n",
              "        vertical-align: top;\n",
              "    }\n",
              "\n",
              "    .dataframe thead th {\n",
              "        text-align: right;\n",
              "    }\n",
              "</style>\n",
              "<table border=\"1\" class=\"dataframe\">\n",
              "  <thead>\n",
              "    <tr style=\"text-align: right;\">\n",
              "      <th></th>\n",
              "      <th>firstName</th>\n",
              "      <th>lastName</th>\n",
              "      <th>studentID</th>\n",
              "      <th>englishGrade</th>\n",
              "      <th>mathGrade</th>\n",
              "      <th>GPA</th>\n",
              "    </tr>\n",
              "  </thead>\n",
              "  <tbody>\n",
              "    <tr>\n",
              "      <th>0</th>\n",
              "      <td>Emma</td>\n",
              "      <td>Smith</td>\n",
              "      <td>10959</td>\n",
              "      <td>95</td>\n",
              "      <td>90</td>\n",
              "      <td>92.5</td>\n",
              "    </tr>\n",
              "    <tr>\n",
              "      <th>1</th>\n",
              "      <td>Sophia</td>\n",
              "      <td>Robinson</td>\n",
              "      <td>75175</td>\n",
              "      <td>88</td>\n",
              "      <td>95</td>\n",
              "      <td>91.5</td>\n",
              "    </tr>\n",
              "    <tr>\n",
              "      <th>2</th>\n",
              "      <td>Emma</td>\n",
              "      <td>Taylor</td>\n",
              "      <td>42257</td>\n",
              "      <td>87</td>\n",
              "      <td>85</td>\n",
              "      <td>86.0</td>\n",
              "    </tr>\n",
              "    <tr>\n",
              "      <th>3</th>\n",
              "      <td>David</td>\n",
              "      <td>Robinson</td>\n",
              "      <td>55148</td>\n",
              "      <td>86</td>\n",
              "      <td>87</td>\n",
              "      <td>86.5</td>\n",
              "    </tr>\n",
              "    <tr>\n",
              "      <th>4</th>\n",
              "      <td>Stephen</td>\n",
              "      <td>Curry</td>\n",
              "      <td>30303</td>\n",
              "      <td>90</td>\n",
              "      <td>88</td>\n",
              "      <td>89.0</td>\n",
              "    </tr>\n",
              "  </tbody>\n",
              "</table>\n",
              "</div>\n",
              "    <div class=\"colab-df-buttons\">\n",
              "\n",
              "  <div class=\"colab-df-container\">\n",
              "    <button class=\"colab-df-convert\" onclick=\"convertToInteractive('df-3e430e0c-0e20-41de-ab56-e3b904612cae')\"\n",
              "            title=\"Convert this dataframe to an interactive table.\"\n",
              "            style=\"display:none;\">\n",
              "\n",
              "  <svg xmlns=\"http://www.w3.org/2000/svg\" height=\"24px\" viewBox=\"0 -960 960 960\">\n",
              "    <path d=\"M120-120v-720h720v720H120Zm60-500h600v-160H180v160Zm220 220h160v-160H400v160Zm0 220h160v-160H400v160ZM180-400h160v-160H180v160Zm440 0h160v-160H620v160ZM180-180h160v-160H180v160Zm440 0h160v-160H620v160Z\"/>\n",
              "  </svg>\n",
              "    </button>\n",
              "\n",
              "  <style>\n",
              "    .colab-df-container {\n",
              "      display:flex;\n",
              "      gap: 12px;\n",
              "    }\n",
              "\n",
              "    .colab-df-convert {\n",
              "      background-color: #E8F0FE;\n",
              "      border: none;\n",
              "      border-radius: 50%;\n",
              "      cursor: pointer;\n",
              "      display: none;\n",
              "      fill: #1967D2;\n",
              "      height: 32px;\n",
              "      padding: 0 0 0 0;\n",
              "      width: 32px;\n",
              "    }\n",
              "\n",
              "    .colab-df-convert:hover {\n",
              "      background-color: #E2EBFA;\n",
              "      box-shadow: 0px 1px 2px rgba(60, 64, 67, 0.3), 0px 1px 3px 1px rgba(60, 64, 67, 0.15);\n",
              "      fill: #174EA6;\n",
              "    }\n",
              "\n",
              "    .colab-df-buttons div {\n",
              "      margin-bottom: 4px;\n",
              "    }\n",
              "\n",
              "    [theme=dark] .colab-df-convert {\n",
              "      background-color: #3B4455;\n",
              "      fill: #D2E3FC;\n",
              "    }\n",
              "\n",
              "    [theme=dark] .colab-df-convert:hover {\n",
              "      background-color: #434B5C;\n",
              "      box-shadow: 0px 1px 3px 1px rgba(0, 0, 0, 0.15);\n",
              "      filter: drop-shadow(0px 1px 2px rgba(0, 0, 0, 0.3));\n",
              "      fill: #FFFFFF;\n",
              "    }\n",
              "  </style>\n",
              "\n",
              "    <script>\n",
              "      const buttonEl =\n",
              "        document.querySelector('#df-3e430e0c-0e20-41de-ab56-e3b904612cae button.colab-df-convert');\n",
              "      buttonEl.style.display =\n",
              "        google.colab.kernel.accessAllowed ? 'block' : 'none';\n",
              "\n",
              "      async function convertToInteractive(key) {\n",
              "        const element = document.querySelector('#df-3e430e0c-0e20-41de-ab56-e3b904612cae');\n",
              "        const dataTable =\n",
              "          await google.colab.kernel.invokeFunction('convertToInteractive',\n",
              "                                                    [key], {});\n",
              "        if (!dataTable) return;\n",
              "\n",
              "        const docLinkHtml = 'Like what you see? Visit the ' +\n",
              "          '<a target=\"_blank\" href=https://colab.research.google.com/notebooks/data_table.ipynb>data table notebook</a>'\n",
              "          + ' to learn more about interactive tables.';\n",
              "        element.innerHTML = '';\n",
              "        dataTable['output_type'] = 'display_data';\n",
              "        await google.colab.output.renderOutput(dataTable, element);\n",
              "        const docLink = document.createElement('div');\n",
              "        docLink.innerHTML = docLinkHtml;\n",
              "        element.appendChild(docLink);\n",
              "      }\n",
              "    </script>\n",
              "  </div>\n",
              "\n",
              "\n",
              "    <div id=\"df-4c008642-d1b9-4d07-b904-d77af9d8c027\">\n",
              "      <button class=\"colab-df-quickchart\" onclick=\"quickchart('df-4c008642-d1b9-4d07-b904-d77af9d8c027')\"\n",
              "                title=\"Suggest charts\"\n",
              "                style=\"display:none;\">\n",
              "\n",
              "<svg xmlns=\"http://www.w3.org/2000/svg\" height=\"24px\"viewBox=\"0 0 24 24\"\n",
              "     width=\"24px\">\n",
              "    <g>\n",
              "        <path d=\"M19 3H5c-1.1 0-2 .9-2 2v14c0 1.1.9 2 2 2h14c1.1 0 2-.9 2-2V5c0-1.1-.9-2-2-2zM9 17H7v-7h2v7zm4 0h-2V7h2v10zm4 0h-2v-4h2v4z\"/>\n",
              "    </g>\n",
              "</svg>\n",
              "      </button>\n",
              "\n",
              "<style>\n",
              "  .colab-df-quickchart {\n",
              "      --bg-color: #E8F0FE;\n",
              "      --fill-color: #1967D2;\n",
              "      --hover-bg-color: #E2EBFA;\n",
              "      --hover-fill-color: #174EA6;\n",
              "      --disabled-fill-color: #AAA;\n",
              "      --disabled-bg-color: #DDD;\n",
              "  }\n",
              "\n",
              "  [theme=dark] .colab-df-quickchart {\n",
              "      --bg-color: #3B4455;\n",
              "      --fill-color: #D2E3FC;\n",
              "      --hover-bg-color: #434B5C;\n",
              "      --hover-fill-color: #FFFFFF;\n",
              "      --disabled-bg-color: #3B4455;\n",
              "      --disabled-fill-color: #666;\n",
              "  }\n",
              "\n",
              "  .colab-df-quickchart {\n",
              "    background-color: var(--bg-color);\n",
              "    border: none;\n",
              "    border-radius: 50%;\n",
              "    cursor: pointer;\n",
              "    display: none;\n",
              "    fill: var(--fill-color);\n",
              "    height: 32px;\n",
              "    padding: 0;\n",
              "    width: 32px;\n",
              "  }\n",
              "\n",
              "  .colab-df-quickchart:hover {\n",
              "    background-color: var(--hover-bg-color);\n",
              "    box-shadow: 0 1px 2px rgba(60, 64, 67, 0.3), 0 1px 3px 1px rgba(60, 64, 67, 0.15);\n",
              "    fill: var(--button-hover-fill-color);\n",
              "  }\n",
              "\n",
              "  .colab-df-quickchart-complete:disabled,\n",
              "  .colab-df-quickchart-complete:disabled:hover {\n",
              "    background-color: var(--disabled-bg-color);\n",
              "    fill: var(--disabled-fill-color);\n",
              "    box-shadow: none;\n",
              "  }\n",
              "\n",
              "  .colab-df-spinner {\n",
              "    border: 2px solid var(--fill-color);\n",
              "    border-color: transparent;\n",
              "    border-bottom-color: var(--fill-color);\n",
              "    animation:\n",
              "      spin 1s steps(1) infinite;\n",
              "  }\n",
              "\n",
              "  @keyframes spin {\n",
              "    0% {\n",
              "      border-color: transparent;\n",
              "      border-bottom-color: var(--fill-color);\n",
              "      border-left-color: var(--fill-color);\n",
              "    }\n",
              "    20% {\n",
              "      border-color: transparent;\n",
              "      border-left-color: var(--fill-color);\n",
              "      border-top-color: var(--fill-color);\n",
              "    }\n",
              "    30% {\n",
              "      border-color: transparent;\n",
              "      border-left-color: var(--fill-color);\n",
              "      border-top-color: var(--fill-color);\n",
              "      border-right-color: var(--fill-color);\n",
              "    }\n",
              "    40% {\n",
              "      border-color: transparent;\n",
              "      border-right-color: var(--fill-color);\n",
              "      border-top-color: var(--fill-color);\n",
              "    }\n",
              "    60% {\n",
              "      border-color: transparent;\n",
              "      border-right-color: var(--fill-color);\n",
              "    }\n",
              "    80% {\n",
              "      border-color: transparent;\n",
              "      border-right-color: var(--fill-color);\n",
              "      border-bottom-color: var(--fill-color);\n",
              "    }\n",
              "    90% {\n",
              "      border-color: transparent;\n",
              "      border-bottom-color: var(--fill-color);\n",
              "    }\n",
              "  }\n",
              "</style>\n",
              "\n",
              "      <script>\n",
              "        async function quickchart(key) {\n",
              "          const quickchartButtonEl =\n",
              "            document.querySelector('#' + key + ' button');\n",
              "          quickchartButtonEl.disabled = true;  // To prevent multiple clicks.\n",
              "          quickchartButtonEl.classList.add('colab-df-spinner');\n",
              "          try {\n",
              "            const charts = await google.colab.kernel.invokeFunction(\n",
              "                'suggestCharts', [key], {});\n",
              "          } catch (error) {\n",
              "            console.error('Error during call to suggestCharts:', error);\n",
              "          }\n",
              "          quickchartButtonEl.classList.remove('colab-df-spinner');\n",
              "          quickchartButtonEl.classList.add('colab-df-quickchart-complete');\n",
              "        }\n",
              "        (() => {\n",
              "          let quickchartButtonEl =\n",
              "            document.querySelector('#df-4c008642-d1b9-4d07-b904-d77af9d8c027 button');\n",
              "          quickchartButtonEl.style.display =\n",
              "            google.colab.kernel.accessAllowed ? 'block' : 'none';\n",
              "        })();\n",
              "      </script>\n",
              "    </div>\n",
              "\n",
              "    </div>\n",
              "  </div>\n"
            ],
            "application/vnd.google.colaboratory.intrinsic+json": {
              "type": "dataframe",
              "variable_name": "df_studentGrades",
              "summary": "{\n  \"name\": \"df_studentGrades\",\n  \"rows\": 14,\n  \"fields\": [\n    {\n      \"column\": \"firstName\",\n      \"properties\": {\n        \"dtype\": \"string\",\n        \"num_unique_values\": 13,\n        \"samples\": [\n          \"Sara\",\n          \"Ryan\",\n          \"Emma\"\n        ],\n        \"semantic_type\": \"\",\n        \"description\": \"\"\n      }\n    },\n    {\n      \"column\": \"lastName\",\n      \"properties\": {\n        \"dtype\": \"string\",\n        \"num_unique_values\": 11,\n        \"samples\": [\n          \"Jones\",\n          \"Smith\",\n          \"White\"\n        ],\n        \"semantic_type\": \"\",\n        \"description\": \"\"\n      }\n    },\n    {\n      \"column\": \"studentID\",\n      \"properties\": {\n        \"dtype\": \"number\",\n        \"std\": 24610,\n        \"min\": 10959,\n        \"max\": 90449,\n        \"num_unique_values\": 14,\n        \"samples\": [\n          90449,\n          25477,\n          10959\n        ],\n        \"semantic_type\": \"\",\n        \"description\": \"\"\n      }\n    },\n    {\n      \"column\": \"englishGrade\",\n      \"properties\": {\n        \"dtype\": \"number\",\n        \"std\": 6,\n        \"min\": 76,\n        \"max\": 98,\n        \"num_unique_values\": 12,\n        \"samples\": [\n          91,\n          92,\n          95\n        ],\n        \"semantic_type\": \"\",\n        \"description\": \"\"\n      }\n    },\n    {\n      \"column\": \"mathGrade\",\n      \"properties\": {\n        \"dtype\": \"number\",\n        \"std\": 5,\n        \"min\": 79,\n        \"max\": 99,\n        \"num_unique_values\": 12,\n        \"samples\": [\n          89,\n          99,\n          90\n        ],\n        \"semantic_type\": \"\",\n        \"description\": \"\"\n      }\n    },\n    {\n      \"column\": \"GPA\",\n      \"properties\": {\n        \"dtype\": \"number\",\n        \"std\": 3.6360904617671226,\n        \"min\": 82.0,\n        \"max\": 92.5,\n        \"num_unique_values\": 11,\n        \"samples\": [\n          83.5,\n          92.5,\n          92.0\n        ],\n        \"semantic_type\": \"\",\n        \"description\": \"\"\n      }\n    }\n  ]\n}"
            }
          },
          "metadata": {},
          "execution_count": 32
        }
      ],
      "source": [
        "# Let's also rename the first and last names appropriately.\n",
        "# Complete the code in the space below by replacing \"<>\" with the proper column name\n",
        "# (1 mark)\n",
        "df_studentGrades = df_studentGrades.rename(columns={\n",
        "    'firstName_English': 'firstName',\n",
        "    'lastName_English': 'lastName',\n",
        "    'grade_English': 'englishGrade',\n",
        "    'grade_Math': 'mathGrade'\n",
        "    })\n",
        "df_studentGrades.head()"
      ]
    },
    {
      "cell_type": "code",
      "execution_count": 37,
      "id": "5c2b26e6-3c03-4950-b56d-5d00cf9361c4",
      "metadata": {
        "id": "5c2b26e6-3c03-4950-b56d-5d00cf9361c4",
        "colab": {
          "base_uri": "https://localhost:8080/"
        },
        "outputId": "6c9ccbe3-7554-4350-8bac-4b849029ad6e"
      },
      "outputs": [
        {
          "output_type": "stream",
          "name": "stdout",
          "text": [
            "          studentID  englishGrade  mathGrade       GPA\n",
            "count     14.000000     14.000000  14.000000  14.00000\n",
            "mean   54086.714286     86.928571  88.571429  87.75000\n",
            "std    24610.266586      6.145221   5.918865   3.63609\n",
            "min    10959.000000     76.000000  79.000000  82.00000\n",
            "25%    33291.500000     82.500000  85.250000  84.50000\n",
            "50%    58087.000000     87.500000  87.500000  89.00000\n",
            "75%    72214.250000     90.750000  91.500000  90.50000\n",
            "max    90449.000000     98.000000  99.000000  92.50000\n"
          ]
        }
      ],
      "source": [
        "# Now let's find out some statistics about our student grades!\n",
        "# Please use an appropriate Pandas method in the space below to display statistical values like\n",
        "# mean, standard deviation, min, max, and others.\n",
        "# (1 mark)\n",
        "print(df_studentGrades.describe())"
      ]
    },
    {
      "cell_type": "code",
      "execution_count": 41,
      "id": "22589631-5517-4b64-937e-61a53ade15fa",
      "metadata": {
        "id": "22589631-5517-4b64-937e-61a53ade15fa"
      },
      "outputs": [],
      "source": [
        "# Do you notice a problem?\n",
        "# Some statistics are not relevant. The average of studentIDs have no meaning in reality!\n",
        "# Let's typecast each column appropriately so as to only get meaningful statistics.\n",
        "# In the code below, replace '<>' by choosing between 'str' for string or 'float' for float\n",
        "# to properly typecast each column.\n",
        "# (1 marks)\n",
        "df_studentGrades['studentID'] = df_studentGrades['studentID'].astype(str)\n",
        "df_studentGrades['firstName'] = df_studentGrades['firstName'].astype(str)\n",
        "df_studentGrades['lastName'] = df_studentGrades['lastName'].astype(str)\n",
        "df_studentGrades['englishGrade'] = df_studentGrades['englishGrade'].astype(float)\n",
        "df_studentGrades['mathGrade'] = df_studentGrades['mathGrade'].astype(float)\n",
        "df_studentGrades['GPA'] = df_studentGrades['GPA'].astype(float)\n"
      ]
    },
    {
      "cell_type": "code",
      "execution_count": 42,
      "id": "6ab40afb-2787-45ab-a62b-e832fdee699d",
      "metadata": {
        "id": "6ab40afb-2787-45ab-a62b-e832fdee699d",
        "colab": {
          "base_uri": "https://localhost:8080/"
        },
        "outputId": "59f1dc55-d554-41e1-c497-934b812a7ba6"
      },
      "outputs": [
        {
          "output_type": "stream",
          "name": "stdout",
          "text": [
            "       englishGrade  mathGrade       GPA\n",
            "count     14.000000  14.000000  14.00000\n",
            "mean      86.928571  88.571429  87.75000\n",
            "std        6.145221   5.918865   3.63609\n",
            "min       76.000000  79.000000  82.00000\n",
            "25%       82.500000  85.250000  84.50000\n",
            "50%       87.500000  87.500000  89.00000\n",
            "75%       90.750000  91.500000  90.50000\n",
            "max       98.000000  99.000000  92.50000\n"
          ]
        }
      ],
      "source": [
        "# Now let's see our statistics!\n",
        "print(df_studentGrades.describe())"
      ]
    },
    {
      "cell_type": "code",
      "execution_count": 43,
      "id": "8wd6ggXcaszZ",
      "metadata": {
        "id": "8wd6ggXcaszZ",
        "colab": {
          "base_uri": "https://localhost:8080/"
        },
        "outputId": "10747713-4a94-47f4-dd72-ce13de1c9d0a"
      },
      "outputs": [
        {
          "output_type": "stream",
          "name": "stdout",
          "text": [
            "   firstName  lastName studentID  englishGrade  mathGrade   GPA\n",
            "0       Emma     Smith     10959          95.0       90.0  92.5\n",
            "12      Sara       Doe     47991          98.0       86.0  92.0\n",
            "1     Sophia  Robinson     75175          88.0       95.0  91.5\n",
            "9       Anne     Clark     90449          82.0       99.0  90.5\n",
            "10      Ryan    Thomas     62137          92.0       89.0  90.5\n",
            "4    Stephen     Curry     30303          90.0       88.0  89.0\n",
            "11    Daniel     White     25477          91.0       87.0  89.0\n",
            "8      Sarah     Swift     61026          80.0       98.0  89.0\n",
            "3      David  Robinson     55148          86.0       87.0  86.5\n",
            "2       Emma    Taylor     42257          87.0       85.0  86.0\n",
            "7      James     Jones     87707          76.0       92.0  84.0\n",
            "5   Isabella  Thompson     72824          88.0       79.0  83.5\n",
            "13   Matthew     White     25376          80.0       85.0  82.5\n",
            "6    Jasmine     Smith     70385          84.0       80.0  82.0\n"
          ]
        }
      ],
      "source": [
        "# Now sort the merged dataframe so that it is in descending order based on GPA, and print it\n",
        "# (1 mark)\n",
        "df_studentsGPASorted = df_studentGrades.sort_values(by='GPA', ascending=False)\n",
        "print(df_studentsGPASorted)"
      ]
    },
    {
      "cell_type": "code",
      "execution_count": null,
      "id": "Y7Kjr1Jqbv_R",
      "metadata": {
        "id": "Y7Kjr1Jqbv_R"
      },
      "outputs": [],
      "source": [
        "# If we wanted to access the student with the highest gpa based on df_studentsGPASorted,\n",
        "# does .iloc or .loc make more sense and why?\n",
        "# (2 marks)\n",
        "#"
      ]
    },
    {
      "cell_type": "code",
      "execution_count": 46,
      "id": "6pQN2HYDeMrm",
      "metadata": {
        "id": "6pQN2HYDeMrm",
        "colab": {
          "base_uri": "https://localhost:8080/"
        },
        "outputId": "f787d1e3-2fb8-41f5-b244-91ebc94b2fd7"
      },
      "outputs": [
        {
          "output_type": "stream",
          "name": "stdout",
          "text": [
            "firstName        Emma\n",
            "lastName        Smith\n",
            "studentID       10959\n",
            "englishGrade     95.0\n",
            "mathGrade        90.0\n",
            "GPA              92.5\n",
            "Name: 0, dtype: object\n"
          ]
        }
      ],
      "source": [
        "# Now using the method you specified, assign the variable below to the row containing the student with the highest GPA\n",
        "# (1 mark)\n",
        "top_student = df_studentsGPASorted.iloc[0]\n",
        "print(top_student)"
      ]
    },
    {
      "cell_type": "code",
      "execution_count": 48,
      "id": "C-oIXOOwdpx2",
      "metadata": {
        "id": "C-oIXOOwdpx2",
        "colab": {
          "base_uri": "https://localhost:8080/"
        },
        "outputId": "53ffcf8c-87a9-483d-d952-0f031dd0effb"
      },
      "outputs": [
        {
          "output_type": "stream",
          "name": "stdout",
          "text": [
            "The student with the highest GPA is Emma Smith with a GPA of 92.5\n"
          ]
        }
      ],
      "source": [
        "# Now print the student first name and last name with the highest GPA in this format:\n",
        "# \"The student with the highest GPA is <firstName> <lastName> with a GPA of <GPA>\"\n",
        "# (1 mark)\n",
        "print(f\"The student with the highest GPA is {top_student['firstName']} {top_student['lastName']} with a GPA of {top_student['GPA']}\")"
      ]
    },
    {
      "cell_type": "code",
      "execution_count": 49,
      "id": "4-U4nZbRee4x",
      "metadata": {
        "id": "4-U4nZbRee4x",
        "colab": {
          "base_uri": "https://localhost:8080/"
        },
        "outputId": "66dfce8b-c179-414c-b554-c4adccfa851f"
      },
      "outputs": [
        {
          "output_type": "stream",
          "name": "stdout",
          "text": [
            "  firstName  lastName studentID  englishGrade  mathGrade   GPA\n",
            "1    Sophia  Robinson     75175          88.0       95.0  91.5\n",
            "9      Anne     Clark     90449          82.0       99.0  90.5\n",
            "8     Sarah     Swift     61026          80.0       98.0  89.0\n",
            "7     James     Jones     87707          76.0       92.0  84.0\n"
          ]
        }
      ],
      "source": [
        "# We can use logical expressions to filter and print data. For example, let's print the students with math grades higher than 90:\n",
        "df_mathGrade_over90 = df_studentsGPASorted[df_studentsGPASorted['mathGrade'] > 90]\n",
        "print(df_mathGrade_over90)"
      ]
    },
    {
      "cell_type": "code",
      "execution_count": 50,
      "id": "nQVe0y5WbHLV",
      "metadata": {
        "id": "nQVe0y5WbHLV",
        "colab": {
          "base_uri": "https://localhost:8080/"
        },
        "outputId": "877bb05e-7acd-4bc1-bfef-cc3eb3bad4e4"
      },
      "outputs": [
        {
          "output_type": "stream",
          "name": "stdout",
          "text": [
            "  firstName  lastName studentID  englishGrade  mathGrade   GPA\n",
            "1    Sophia  Robinson     75175          88.0       95.0  91.5\n",
            "9      Anne     Clark     90449          82.0       99.0  90.5\n"
          ]
        }
      ],
      "source": [
        "# Use logical expressions, and print the students with math grades higher than 90, english grades higher than 80, and GPA greater than 85\n",
        "df_bestStudents = df_studentsGPASorted[(df_studentsGPASorted['mathGrade'] > 90) & (df_studentsGPASorted['englishGrade'] > 80) & (df_studentsGPASorted['GPA'] > 85)]\n",
        "print(df_bestStudents)"
      ]
    },
    {
      "cell_type": "code",
      "execution_count": 51,
      "id": "lTp6vfG2fVQM",
      "metadata": {
        "id": "lTp6vfG2fVQM",
        "colab": {
          "base_uri": "https://localhost:8080/"
        },
        "outputId": "e0b65637-6d51-4dde-9978-599be2331498"
      },
      "outputs": [
        {
          "output_type": "stream",
          "name": "stdout",
          "text": [
            "   firstName  lastName studentID  englishGrade  mathGrade   GPA\n",
            "7      James     Jones     87707          76.0       92.0  84.0\n",
            "5   Isabella  Thompson     72824          88.0       79.0  83.5\n",
            "13   Matthew     White     25376          80.0       85.0  82.5\n",
            "6    Jasmine     Smith     70385          84.0       80.0  82.0\n"
          ]
        }
      ],
      "source": [
        "# Now print the students whos GPA are lower than 85\n",
        "# (2 marks)\n",
        "print(df_studentsGPASorted[df_studentsGPASorted['GPA'] < 85])"
      ]
    },
    {
      "cell_type": "code",
      "execution_count": 52,
      "id": "tks_pdDPbpPO",
      "metadata": {
        "id": "tks_pdDPbpPO",
        "colab": {
          "base_uri": "https://localhost:8080/"
        },
        "outputId": "eb60d9c1-deec-4680-c353-4596b950df6f"
      },
      "outputs": [
        {
          "output_type": "stream",
          "name": "stdout",
          "text": [
            "   firstName  lastName studentID  englishGrade  mathGrade   GPA\n",
            "0       Emma     Smith     10959          95.0       90.0  92.5\n",
            "12      Sara       Doe     47991          98.0       86.0  92.0\n",
            "1     Sophia  Robinson     75175          88.0       95.0  91.5\n"
          ]
        }
      ],
      "source": [
        "# Print the Top 3 Performers (highest GPA)\n",
        "print(df_studentsGPASorted.head(3))"
      ]
    },
    {
      "cell_type": "code",
      "execution_count": 53,
      "id": "n6lSFPQ2bpv-",
      "metadata": {
        "id": "n6lSFPQ2bpv-",
        "colab": {
          "base_uri": "https://localhost:8080/"
        },
        "outputId": "8555d1cf-df96-403d-81e8-a70d67ab4e11"
      },
      "outputs": [
        {
          "output_type": "stream",
          "name": "stdout",
          "text": [
            "   firstName lastName studentID  englishGrade  mathGrade   GPA\n",
            "13   Matthew    White     25376          80.0       85.0  82.5\n",
            "6    Jasmine    Smith     70385          84.0       80.0  82.0\n"
          ]
        }
      ],
      "source": [
        "# Print the Bottom 2 Performers (lowest GPA)\n",
        "print(df_studentsGPASorted.tail(2))"
      ]
    },
    {
      "cell_type": "markdown",
      "id": "7zMefl3LSqQs",
      "metadata": {
        "id": "7zMefl3LSqQs"
      },
      "source": [
        "## Part 4: More Data Analytics using Pandas\n",
        "### (18 marks)"
      ]
    },
    {
      "cell_type": "code",
      "execution_count": 54,
      "id": "F_W0PBCdSxg9",
      "metadata": {
        "id": "F_W0PBCdSxg9",
        "colab": {
          "base_uri": "https://localhost:8080/"
        },
        "outputId": "19adb42b-1cd3-4424-e578-17bcbadeb575"
      },
      "outputs": [
        {
          "output_type": "stream",
          "name": "stdout",
          "text": [
            "0     95\n",
            "1     88\n",
            "2     87\n",
            "3     86\n",
            "4     90\n",
            "5     88\n",
            "6     84\n",
            "7     76\n",
            "8     80\n",
            "9     82\n",
            "10    92\n",
            "11    91\n",
            "12    98\n",
            "13    80\n",
            "Name: grade, dtype: int64\n"
          ]
        }
      ],
      "source": [
        "# Select the column 'grade' from the original English grade dataset and print it\n",
        "print(df_english['grade'])"
      ]
    },
    {
      "cell_type": "code",
      "execution_count": 55,
      "id": "d_Mo59OuT0IV",
      "metadata": {
        "id": "d_Mo59OuT0IV",
        "colab": {
          "base_uri": "https://localhost:8080/"
        },
        "outputId": "aacd840f-3ce7-46c2-ae3c-ffbefbf375ea"
      },
      "outputs": [
        {
          "output_type": "stream",
          "name": "stdout",
          "text": [
            "0     92.5\n",
            "1     91.5\n",
            "2     86.0\n",
            "3     86.5\n",
            "4     89.0\n",
            "5     83.5\n",
            "6     82.0\n",
            "7     84.0\n",
            "8     89.0\n",
            "9     90.5\n",
            "10    90.5\n",
            "11    89.0\n",
            "12    92.0\n",
            "13    82.5\n",
            "Name: GPA, dtype: float64\n"
          ]
        }
      ],
      "source": [
        "# Select the column 'GPA' from the df_studentGrades and print it\n",
        "print(df_studentGrades['GPA'])"
      ]
    },
    {
      "cell_type": "code",
      "execution_count": null,
      "id": "EdHYR2hYVbef",
      "metadata": {
        "id": "EdHYR2hYVbef"
      },
      "outputs": [],
      "source": [
        "# What is the data type of grade from the English grade dataset?\n",
        "# (0.5 mark)\n",
        "#integer\n",
        "\n",
        "# What is the data type of GPA from the merged dataset?\n",
        "# (0.5 mark)\n",
        "#float\n",
        "\n",
        "# Is it different? Why?\n",
        "# (1 mark)\n",
        "#Yes, the data for the grade is integer because it is only whole numbers, whilst the GPA column is float because it includes numbers with decimals"
      ]
    },
    {
      "cell_type": "code",
      "execution_count": 57,
      "id": "chmwegDeV6Dr",
      "metadata": {
        "id": "chmwegDeV6Dr"
      },
      "outputs": [],
      "source": [
        "# Load the student homeroom CSV file into a DataFrame using the following variable name\n",
        "# (1 mark)\n",
        "df_homeroom = pd.read_csv('/content/drive/MyDrive/ENGG680_2025_Fall/ENGG680_2025_Fall/Lab_Assignment1/studentHomerooms.csv')"
      ]
    },
    {
      "cell_type": "code",
      "execution_count": 58,
      "id": "Np5oRF-onFKg",
      "metadata": {
        "id": "Np5oRF-onFKg",
        "colab": {
          "base_uri": "https://localhost:8080/",
          "height": 206
        },
        "outputId": "3d073173-f408-4ea4-c8ad-14f05317814e"
      },
      "outputs": [
        {
          "output_type": "execute_result",
          "data": {
            "text/plain": [
              "  firstName  lastName  studentID  homeRoom\n",
              "0      Emma     Smith      10959       313\n",
              "1    Sophia  Robinson      75175       311\n",
              "2      Emma    Taylor      42257       311\n",
              "3     David  Robinson      55148       313\n",
              "4   Stephen     Curry      30303       313"
            ],
            "text/html": [
              "\n",
              "  <div id=\"df-1b46d2a1-107f-47f4-be65-4d20c08c1b9a\" class=\"colab-df-container\">\n",
              "    <div>\n",
              "<style scoped>\n",
              "    .dataframe tbody tr th:only-of-type {\n",
              "        vertical-align: middle;\n",
              "    }\n",
              "\n",
              "    .dataframe tbody tr th {\n",
              "        vertical-align: top;\n",
              "    }\n",
              "\n",
              "    .dataframe thead th {\n",
              "        text-align: right;\n",
              "    }\n",
              "</style>\n",
              "<table border=\"1\" class=\"dataframe\">\n",
              "  <thead>\n",
              "    <tr style=\"text-align: right;\">\n",
              "      <th></th>\n",
              "      <th>firstName</th>\n",
              "      <th>lastName</th>\n",
              "      <th>studentID</th>\n",
              "      <th>homeRoom</th>\n",
              "    </tr>\n",
              "  </thead>\n",
              "  <tbody>\n",
              "    <tr>\n",
              "      <th>0</th>\n",
              "      <td>Emma</td>\n",
              "      <td>Smith</td>\n",
              "      <td>10959</td>\n",
              "      <td>313</td>\n",
              "    </tr>\n",
              "    <tr>\n",
              "      <th>1</th>\n",
              "      <td>Sophia</td>\n",
              "      <td>Robinson</td>\n",
              "      <td>75175</td>\n",
              "      <td>311</td>\n",
              "    </tr>\n",
              "    <tr>\n",
              "      <th>2</th>\n",
              "      <td>Emma</td>\n",
              "      <td>Taylor</td>\n",
              "      <td>42257</td>\n",
              "      <td>311</td>\n",
              "    </tr>\n",
              "    <tr>\n",
              "      <th>3</th>\n",
              "      <td>David</td>\n",
              "      <td>Robinson</td>\n",
              "      <td>55148</td>\n",
              "      <td>313</td>\n",
              "    </tr>\n",
              "    <tr>\n",
              "      <th>4</th>\n",
              "      <td>Stephen</td>\n",
              "      <td>Curry</td>\n",
              "      <td>30303</td>\n",
              "      <td>313</td>\n",
              "    </tr>\n",
              "  </tbody>\n",
              "</table>\n",
              "</div>\n",
              "    <div class=\"colab-df-buttons\">\n",
              "\n",
              "  <div class=\"colab-df-container\">\n",
              "    <button class=\"colab-df-convert\" onclick=\"convertToInteractive('df-1b46d2a1-107f-47f4-be65-4d20c08c1b9a')\"\n",
              "            title=\"Convert this dataframe to an interactive table.\"\n",
              "            style=\"display:none;\">\n",
              "\n",
              "  <svg xmlns=\"http://www.w3.org/2000/svg\" height=\"24px\" viewBox=\"0 -960 960 960\">\n",
              "    <path d=\"M120-120v-720h720v720H120Zm60-500h600v-160H180v160Zm220 220h160v-160H400v160Zm0 220h160v-160H400v160ZM180-400h160v-160H180v160Zm440 0h160v-160H620v160ZM180-180h160v-160H180v160Zm440 0h160v-160H620v160Z\"/>\n",
              "  </svg>\n",
              "    </button>\n",
              "\n",
              "  <style>\n",
              "    .colab-df-container {\n",
              "      display:flex;\n",
              "      gap: 12px;\n",
              "    }\n",
              "\n",
              "    .colab-df-convert {\n",
              "      background-color: #E8F0FE;\n",
              "      border: none;\n",
              "      border-radius: 50%;\n",
              "      cursor: pointer;\n",
              "      display: none;\n",
              "      fill: #1967D2;\n",
              "      height: 32px;\n",
              "      padding: 0 0 0 0;\n",
              "      width: 32px;\n",
              "    }\n",
              "\n",
              "    .colab-df-convert:hover {\n",
              "      background-color: #E2EBFA;\n",
              "      box-shadow: 0px 1px 2px rgba(60, 64, 67, 0.3), 0px 1px 3px 1px rgba(60, 64, 67, 0.15);\n",
              "      fill: #174EA6;\n",
              "    }\n",
              "\n",
              "    .colab-df-buttons div {\n",
              "      margin-bottom: 4px;\n",
              "    }\n",
              "\n",
              "    [theme=dark] .colab-df-convert {\n",
              "      background-color: #3B4455;\n",
              "      fill: #D2E3FC;\n",
              "    }\n",
              "\n",
              "    [theme=dark] .colab-df-convert:hover {\n",
              "      background-color: #434B5C;\n",
              "      box-shadow: 0px 1px 3px 1px rgba(0, 0, 0, 0.15);\n",
              "      filter: drop-shadow(0px 1px 2px rgba(0, 0, 0, 0.3));\n",
              "      fill: #FFFFFF;\n",
              "    }\n",
              "  </style>\n",
              "\n",
              "    <script>\n",
              "      const buttonEl =\n",
              "        document.querySelector('#df-1b46d2a1-107f-47f4-be65-4d20c08c1b9a button.colab-df-convert');\n",
              "      buttonEl.style.display =\n",
              "        google.colab.kernel.accessAllowed ? 'block' : 'none';\n",
              "\n",
              "      async function convertToInteractive(key) {\n",
              "        const element = document.querySelector('#df-1b46d2a1-107f-47f4-be65-4d20c08c1b9a');\n",
              "        const dataTable =\n",
              "          await google.colab.kernel.invokeFunction('convertToInteractive',\n",
              "                                                    [key], {});\n",
              "        if (!dataTable) return;\n",
              "\n",
              "        const docLinkHtml = 'Like what you see? Visit the ' +\n",
              "          '<a target=\"_blank\" href=https://colab.research.google.com/notebooks/data_table.ipynb>data table notebook</a>'\n",
              "          + ' to learn more about interactive tables.';\n",
              "        element.innerHTML = '';\n",
              "        dataTable['output_type'] = 'display_data';\n",
              "        await google.colab.output.renderOutput(dataTable, element);\n",
              "        const docLink = document.createElement('div');\n",
              "        docLink.innerHTML = docLinkHtml;\n",
              "        element.appendChild(docLink);\n",
              "      }\n",
              "    </script>\n",
              "  </div>\n",
              "\n",
              "\n",
              "    <div id=\"df-a2a43652-f62a-478a-aae6-5e8ff0ea3e7d\">\n",
              "      <button class=\"colab-df-quickchart\" onclick=\"quickchart('df-a2a43652-f62a-478a-aae6-5e8ff0ea3e7d')\"\n",
              "                title=\"Suggest charts\"\n",
              "                style=\"display:none;\">\n",
              "\n",
              "<svg xmlns=\"http://www.w3.org/2000/svg\" height=\"24px\"viewBox=\"0 0 24 24\"\n",
              "     width=\"24px\">\n",
              "    <g>\n",
              "        <path d=\"M19 3H5c-1.1 0-2 .9-2 2v14c0 1.1.9 2 2 2h14c1.1 0 2-.9 2-2V5c0-1.1-.9-2-2-2zM9 17H7v-7h2v7zm4 0h-2V7h2v10zm4 0h-2v-4h2v4z\"/>\n",
              "    </g>\n",
              "</svg>\n",
              "      </button>\n",
              "\n",
              "<style>\n",
              "  .colab-df-quickchart {\n",
              "      --bg-color: #E8F0FE;\n",
              "      --fill-color: #1967D2;\n",
              "      --hover-bg-color: #E2EBFA;\n",
              "      --hover-fill-color: #174EA6;\n",
              "      --disabled-fill-color: #AAA;\n",
              "      --disabled-bg-color: #DDD;\n",
              "  }\n",
              "\n",
              "  [theme=dark] .colab-df-quickchart {\n",
              "      --bg-color: #3B4455;\n",
              "      --fill-color: #D2E3FC;\n",
              "      --hover-bg-color: #434B5C;\n",
              "      --hover-fill-color: #FFFFFF;\n",
              "      --disabled-bg-color: #3B4455;\n",
              "      --disabled-fill-color: #666;\n",
              "  }\n",
              "\n",
              "  .colab-df-quickchart {\n",
              "    background-color: var(--bg-color);\n",
              "    border: none;\n",
              "    border-radius: 50%;\n",
              "    cursor: pointer;\n",
              "    display: none;\n",
              "    fill: var(--fill-color);\n",
              "    height: 32px;\n",
              "    padding: 0;\n",
              "    width: 32px;\n",
              "  }\n",
              "\n",
              "  .colab-df-quickchart:hover {\n",
              "    background-color: var(--hover-bg-color);\n",
              "    box-shadow: 0 1px 2px rgba(60, 64, 67, 0.3), 0 1px 3px 1px rgba(60, 64, 67, 0.15);\n",
              "    fill: var(--button-hover-fill-color);\n",
              "  }\n",
              "\n",
              "  .colab-df-quickchart-complete:disabled,\n",
              "  .colab-df-quickchart-complete:disabled:hover {\n",
              "    background-color: var(--disabled-bg-color);\n",
              "    fill: var(--disabled-fill-color);\n",
              "    box-shadow: none;\n",
              "  }\n",
              "\n",
              "  .colab-df-spinner {\n",
              "    border: 2px solid var(--fill-color);\n",
              "    border-color: transparent;\n",
              "    border-bottom-color: var(--fill-color);\n",
              "    animation:\n",
              "      spin 1s steps(1) infinite;\n",
              "  }\n",
              "\n",
              "  @keyframes spin {\n",
              "    0% {\n",
              "      border-color: transparent;\n",
              "      border-bottom-color: var(--fill-color);\n",
              "      border-left-color: var(--fill-color);\n",
              "    }\n",
              "    20% {\n",
              "      border-color: transparent;\n",
              "      border-left-color: var(--fill-color);\n",
              "      border-top-color: var(--fill-color);\n",
              "    }\n",
              "    30% {\n",
              "      border-color: transparent;\n",
              "      border-left-color: var(--fill-color);\n",
              "      border-top-color: var(--fill-color);\n",
              "      border-right-color: var(--fill-color);\n",
              "    }\n",
              "    40% {\n",
              "      border-color: transparent;\n",
              "      border-right-color: var(--fill-color);\n",
              "      border-top-color: var(--fill-color);\n",
              "    }\n",
              "    60% {\n",
              "      border-color: transparent;\n",
              "      border-right-color: var(--fill-color);\n",
              "    }\n",
              "    80% {\n",
              "      border-color: transparent;\n",
              "      border-right-color: var(--fill-color);\n",
              "      border-bottom-color: var(--fill-color);\n",
              "    }\n",
              "    90% {\n",
              "      border-color: transparent;\n",
              "      border-bottom-color: var(--fill-color);\n",
              "    }\n",
              "  }\n",
              "</style>\n",
              "\n",
              "      <script>\n",
              "        async function quickchart(key) {\n",
              "          const quickchartButtonEl =\n",
              "            document.querySelector('#' + key + ' button');\n",
              "          quickchartButtonEl.disabled = true;  // To prevent multiple clicks.\n",
              "          quickchartButtonEl.classList.add('colab-df-spinner');\n",
              "          try {\n",
              "            const charts = await google.colab.kernel.invokeFunction(\n",
              "                'suggestCharts', [key], {});\n",
              "          } catch (error) {\n",
              "            console.error('Error during call to suggestCharts:', error);\n",
              "          }\n",
              "          quickchartButtonEl.classList.remove('colab-df-spinner');\n",
              "          quickchartButtonEl.classList.add('colab-df-quickchart-complete');\n",
              "        }\n",
              "        (() => {\n",
              "          let quickchartButtonEl =\n",
              "            document.querySelector('#df-a2a43652-f62a-478a-aae6-5e8ff0ea3e7d button');\n",
              "          quickchartButtonEl.style.display =\n",
              "            google.colab.kernel.accessAllowed ? 'block' : 'none';\n",
              "        })();\n",
              "      </script>\n",
              "    </div>\n",
              "\n",
              "    </div>\n",
              "  </div>\n"
            ],
            "application/vnd.google.colaboratory.intrinsic+json": {
              "type": "dataframe",
              "variable_name": "df_homeroom",
              "summary": "{\n  \"name\": \"df_homeroom\",\n  \"rows\": 14,\n  \"fields\": [\n    {\n      \"column\": \"firstName\",\n      \"properties\": {\n        \"dtype\": \"string\",\n        \"num_unique_values\": 13,\n        \"samples\": [\n          \"Sara\",\n          \"Ryan\",\n          \"Emma\"\n        ],\n        \"semantic_type\": \"\",\n        \"description\": \"\"\n      }\n    },\n    {\n      \"column\": \"lastName\",\n      \"properties\": {\n        \"dtype\": \"string\",\n        \"num_unique_values\": 11,\n        \"samples\": [\n          \"Jones\",\n          \"Smith\",\n          \"White\"\n        ],\n        \"semantic_type\": \"\",\n        \"description\": \"\"\n      }\n    },\n    {\n      \"column\": \"studentID\",\n      \"properties\": {\n        \"dtype\": \"number\",\n        \"std\": 24610,\n        \"min\": 10959,\n        \"max\": 90449,\n        \"num_unique_values\": 14,\n        \"samples\": [\n          90449,\n          25477,\n          10959\n        ],\n        \"semantic_type\": \"\",\n        \"description\": \"\"\n      }\n    },\n    {\n      \"column\": \"homeRoom\",\n      \"properties\": {\n        \"dtype\": \"number\",\n        \"std\": 1,\n        \"min\": 311,\n        \"max\": 313,\n        \"num_unique_values\": 2,\n        \"samples\": [\n          311,\n          313\n        ],\n        \"semantic_type\": \"\",\n        \"description\": \"\"\n      }\n    }\n  ]\n}"
            }
          },
          "metadata": {},
          "execution_count": 58
        }
      ],
      "source": [
        "# Print first 5 rows of df_homeroom using the .head method\n",
        "df_homeroom.head(5)"
      ]
    },
    {
      "cell_type": "code",
      "execution_count": 62,
      "id": "SDhu53MZolrZ",
      "metadata": {
        "id": "SDhu53MZolrZ",
        "colab": {
          "base_uri": "https://localhost:8080/",
          "height": 206
        },
        "outputId": "398266c7-0f42-47da-e06d-cacf0b2fddd9"
      },
      "outputs": [
        {
          "output_type": "execute_result",
          "data": {
            "text/plain": [
              "  firstName  lastName studentID  englishGrade  mathGrade   GPA  homeRoom\n",
              "0      Emma     Smith     10959          95.0       90.0  92.5       313\n",
              "1    Sophia  Robinson     75175          88.0       95.0  91.5       311\n",
              "2      Emma    Taylor     42257          87.0       85.0  86.0       311\n",
              "3     David  Robinson     55148          86.0       87.0  86.5       313\n",
              "4   Stephen     Curry     30303          90.0       88.0  89.0       313"
            ],
            "text/html": [
              "\n",
              "  <div id=\"df-a8438757-9d38-457e-98d3-414952682a01\" class=\"colab-df-container\">\n",
              "    <div>\n",
              "<style scoped>\n",
              "    .dataframe tbody tr th:only-of-type {\n",
              "        vertical-align: middle;\n",
              "    }\n",
              "\n",
              "    .dataframe tbody tr th {\n",
              "        vertical-align: top;\n",
              "    }\n",
              "\n",
              "    .dataframe thead th {\n",
              "        text-align: right;\n",
              "    }\n",
              "</style>\n",
              "<table border=\"1\" class=\"dataframe\">\n",
              "  <thead>\n",
              "    <tr style=\"text-align: right;\">\n",
              "      <th></th>\n",
              "      <th>firstName</th>\n",
              "      <th>lastName</th>\n",
              "      <th>studentID</th>\n",
              "      <th>englishGrade</th>\n",
              "      <th>mathGrade</th>\n",
              "      <th>GPA</th>\n",
              "      <th>homeRoom</th>\n",
              "    </tr>\n",
              "  </thead>\n",
              "  <tbody>\n",
              "    <tr>\n",
              "      <th>0</th>\n",
              "      <td>Emma</td>\n",
              "      <td>Smith</td>\n",
              "      <td>10959</td>\n",
              "      <td>95.0</td>\n",
              "      <td>90.0</td>\n",
              "      <td>92.5</td>\n",
              "      <td>313</td>\n",
              "    </tr>\n",
              "    <tr>\n",
              "      <th>1</th>\n",
              "      <td>Sophia</td>\n",
              "      <td>Robinson</td>\n",
              "      <td>75175</td>\n",
              "      <td>88.0</td>\n",
              "      <td>95.0</td>\n",
              "      <td>91.5</td>\n",
              "      <td>311</td>\n",
              "    </tr>\n",
              "    <tr>\n",
              "      <th>2</th>\n",
              "      <td>Emma</td>\n",
              "      <td>Taylor</td>\n",
              "      <td>42257</td>\n",
              "      <td>87.0</td>\n",
              "      <td>85.0</td>\n",
              "      <td>86.0</td>\n",
              "      <td>311</td>\n",
              "    </tr>\n",
              "    <tr>\n",
              "      <th>3</th>\n",
              "      <td>David</td>\n",
              "      <td>Robinson</td>\n",
              "      <td>55148</td>\n",
              "      <td>86.0</td>\n",
              "      <td>87.0</td>\n",
              "      <td>86.5</td>\n",
              "      <td>313</td>\n",
              "    </tr>\n",
              "    <tr>\n",
              "      <th>4</th>\n",
              "      <td>Stephen</td>\n",
              "      <td>Curry</td>\n",
              "      <td>30303</td>\n",
              "      <td>90.0</td>\n",
              "      <td>88.0</td>\n",
              "      <td>89.0</td>\n",
              "      <td>313</td>\n",
              "    </tr>\n",
              "  </tbody>\n",
              "</table>\n",
              "</div>\n",
              "    <div class=\"colab-df-buttons\">\n",
              "\n",
              "  <div class=\"colab-df-container\">\n",
              "    <button class=\"colab-df-convert\" onclick=\"convertToInteractive('df-a8438757-9d38-457e-98d3-414952682a01')\"\n",
              "            title=\"Convert this dataframe to an interactive table.\"\n",
              "            style=\"display:none;\">\n",
              "\n",
              "  <svg xmlns=\"http://www.w3.org/2000/svg\" height=\"24px\" viewBox=\"0 -960 960 960\">\n",
              "    <path d=\"M120-120v-720h720v720H120Zm60-500h600v-160H180v160Zm220 220h160v-160H400v160Zm0 220h160v-160H400v160ZM180-400h160v-160H180v160Zm440 0h160v-160H620v160ZM180-180h160v-160H180v160Zm440 0h160v-160H620v160Z\"/>\n",
              "  </svg>\n",
              "    </button>\n",
              "\n",
              "  <style>\n",
              "    .colab-df-container {\n",
              "      display:flex;\n",
              "      gap: 12px;\n",
              "    }\n",
              "\n",
              "    .colab-df-convert {\n",
              "      background-color: #E8F0FE;\n",
              "      border: none;\n",
              "      border-radius: 50%;\n",
              "      cursor: pointer;\n",
              "      display: none;\n",
              "      fill: #1967D2;\n",
              "      height: 32px;\n",
              "      padding: 0 0 0 0;\n",
              "      width: 32px;\n",
              "    }\n",
              "\n",
              "    .colab-df-convert:hover {\n",
              "      background-color: #E2EBFA;\n",
              "      box-shadow: 0px 1px 2px rgba(60, 64, 67, 0.3), 0px 1px 3px 1px rgba(60, 64, 67, 0.15);\n",
              "      fill: #174EA6;\n",
              "    }\n",
              "\n",
              "    .colab-df-buttons div {\n",
              "      margin-bottom: 4px;\n",
              "    }\n",
              "\n",
              "    [theme=dark] .colab-df-convert {\n",
              "      background-color: #3B4455;\n",
              "      fill: #D2E3FC;\n",
              "    }\n",
              "\n",
              "    [theme=dark] .colab-df-convert:hover {\n",
              "      background-color: #434B5C;\n",
              "      box-shadow: 0px 1px 3px 1px rgba(0, 0, 0, 0.15);\n",
              "      filter: drop-shadow(0px 1px 2px rgba(0, 0, 0, 0.3));\n",
              "      fill: #FFFFFF;\n",
              "    }\n",
              "  </style>\n",
              "\n",
              "    <script>\n",
              "      const buttonEl =\n",
              "        document.querySelector('#df-a8438757-9d38-457e-98d3-414952682a01 button.colab-df-convert');\n",
              "      buttonEl.style.display =\n",
              "        google.colab.kernel.accessAllowed ? 'block' : 'none';\n",
              "\n",
              "      async function convertToInteractive(key) {\n",
              "        const element = document.querySelector('#df-a8438757-9d38-457e-98d3-414952682a01');\n",
              "        const dataTable =\n",
              "          await google.colab.kernel.invokeFunction('convertToInteractive',\n",
              "                                                    [key], {});\n",
              "        if (!dataTable) return;\n",
              "\n",
              "        const docLinkHtml = 'Like what you see? Visit the ' +\n",
              "          '<a target=\"_blank\" href=https://colab.research.google.com/notebooks/data_table.ipynb>data table notebook</a>'\n",
              "          + ' to learn more about interactive tables.';\n",
              "        element.innerHTML = '';\n",
              "        dataTable['output_type'] = 'display_data';\n",
              "        await google.colab.output.renderOutput(dataTable, element);\n",
              "        const docLink = document.createElement('div');\n",
              "        docLink.innerHTML = docLinkHtml;\n",
              "        element.appendChild(docLink);\n",
              "      }\n",
              "    </script>\n",
              "  </div>\n",
              "\n",
              "\n",
              "    <div id=\"df-f7d7ffe0-506c-4142-8d99-4b9d2317a091\">\n",
              "      <button class=\"colab-df-quickchart\" onclick=\"quickchart('df-f7d7ffe0-506c-4142-8d99-4b9d2317a091')\"\n",
              "                title=\"Suggest charts\"\n",
              "                style=\"display:none;\">\n",
              "\n",
              "<svg xmlns=\"http://www.w3.org/2000/svg\" height=\"24px\"viewBox=\"0 0 24 24\"\n",
              "     width=\"24px\">\n",
              "    <g>\n",
              "        <path d=\"M19 3H5c-1.1 0-2 .9-2 2v14c0 1.1.9 2 2 2h14c1.1 0 2-.9 2-2V5c0-1.1-.9-2-2-2zM9 17H7v-7h2v7zm4 0h-2V7h2v10zm4 0h-2v-4h2v4z\"/>\n",
              "    </g>\n",
              "</svg>\n",
              "      </button>\n",
              "\n",
              "<style>\n",
              "  .colab-df-quickchart {\n",
              "      --bg-color: #E8F0FE;\n",
              "      --fill-color: #1967D2;\n",
              "      --hover-bg-color: #E2EBFA;\n",
              "      --hover-fill-color: #174EA6;\n",
              "      --disabled-fill-color: #AAA;\n",
              "      --disabled-bg-color: #DDD;\n",
              "  }\n",
              "\n",
              "  [theme=dark] .colab-df-quickchart {\n",
              "      --bg-color: #3B4455;\n",
              "      --fill-color: #D2E3FC;\n",
              "      --hover-bg-color: #434B5C;\n",
              "      --hover-fill-color: #FFFFFF;\n",
              "      --disabled-bg-color: #3B4455;\n",
              "      --disabled-fill-color: #666;\n",
              "  }\n",
              "\n",
              "  .colab-df-quickchart {\n",
              "    background-color: var(--bg-color);\n",
              "    border: none;\n",
              "    border-radius: 50%;\n",
              "    cursor: pointer;\n",
              "    display: none;\n",
              "    fill: var(--fill-color);\n",
              "    height: 32px;\n",
              "    padding: 0;\n",
              "    width: 32px;\n",
              "  }\n",
              "\n",
              "  .colab-df-quickchart:hover {\n",
              "    background-color: var(--hover-bg-color);\n",
              "    box-shadow: 0 1px 2px rgba(60, 64, 67, 0.3), 0 1px 3px 1px rgba(60, 64, 67, 0.15);\n",
              "    fill: var(--button-hover-fill-color);\n",
              "  }\n",
              "\n",
              "  .colab-df-quickchart-complete:disabled,\n",
              "  .colab-df-quickchart-complete:disabled:hover {\n",
              "    background-color: var(--disabled-bg-color);\n",
              "    fill: var(--disabled-fill-color);\n",
              "    box-shadow: none;\n",
              "  }\n",
              "\n",
              "  .colab-df-spinner {\n",
              "    border: 2px solid var(--fill-color);\n",
              "    border-color: transparent;\n",
              "    border-bottom-color: var(--fill-color);\n",
              "    animation:\n",
              "      spin 1s steps(1) infinite;\n",
              "  }\n",
              "\n",
              "  @keyframes spin {\n",
              "    0% {\n",
              "      border-color: transparent;\n",
              "      border-bottom-color: var(--fill-color);\n",
              "      border-left-color: var(--fill-color);\n",
              "    }\n",
              "    20% {\n",
              "      border-color: transparent;\n",
              "      border-left-color: var(--fill-color);\n",
              "      border-top-color: var(--fill-color);\n",
              "    }\n",
              "    30% {\n",
              "      border-color: transparent;\n",
              "      border-left-color: var(--fill-color);\n",
              "      border-top-color: var(--fill-color);\n",
              "      border-right-color: var(--fill-color);\n",
              "    }\n",
              "    40% {\n",
              "      border-color: transparent;\n",
              "      border-right-color: var(--fill-color);\n",
              "      border-top-color: var(--fill-color);\n",
              "    }\n",
              "    60% {\n",
              "      border-color: transparent;\n",
              "      border-right-color: var(--fill-color);\n",
              "    }\n",
              "    80% {\n",
              "      border-color: transparent;\n",
              "      border-right-color: var(--fill-color);\n",
              "      border-bottom-color: var(--fill-color);\n",
              "    }\n",
              "    90% {\n",
              "      border-color: transparent;\n",
              "      border-bottom-color: var(--fill-color);\n",
              "    }\n",
              "  }\n",
              "</style>\n",
              "\n",
              "      <script>\n",
              "        async function quickchart(key) {\n",
              "          const quickchartButtonEl =\n",
              "            document.querySelector('#' + key + ' button');\n",
              "          quickchartButtonEl.disabled = true;  // To prevent multiple clicks.\n",
              "          quickchartButtonEl.classList.add('colab-df-spinner');\n",
              "          try {\n",
              "            const charts = await google.colab.kernel.invokeFunction(\n",
              "                'suggestCharts', [key], {});\n",
              "          } catch (error) {\n",
              "            console.error('Error during call to suggestCharts:', error);\n",
              "          }\n",
              "          quickchartButtonEl.classList.remove('colab-df-spinner');\n",
              "          quickchartButtonEl.classList.add('colab-df-quickchart-complete');\n",
              "        }\n",
              "        (() => {\n",
              "          let quickchartButtonEl =\n",
              "            document.querySelector('#df-f7d7ffe0-506c-4142-8d99-4b9d2317a091 button');\n",
              "          quickchartButtonEl.style.display =\n",
              "            google.colab.kernel.accessAllowed ? 'block' : 'none';\n",
              "        })();\n",
              "      </script>\n",
              "    </div>\n",
              "\n",
              "    </div>\n",
              "  </div>\n"
            ],
            "application/vnd.google.colaboratory.intrinsic+json": {
              "type": "dataframe",
              "variable_name": "df_studentInfo",
              "summary": "{\n  \"name\": \"df_studentInfo\",\n  \"rows\": 14,\n  \"fields\": [\n    {\n      \"column\": \"firstName\",\n      \"properties\": {\n        \"dtype\": \"string\",\n        \"num_unique_values\": 13,\n        \"samples\": [\n          \"Sara\",\n          \"Ryan\",\n          \"Emma\"\n        ],\n        \"semantic_type\": \"\",\n        \"description\": \"\"\n      }\n    },\n    {\n      \"column\": \"lastName\",\n      \"properties\": {\n        \"dtype\": \"string\",\n        \"num_unique_values\": 11,\n        \"samples\": [\n          \"Jones\",\n          \"Smith\",\n          \"White\"\n        ],\n        \"semantic_type\": \"\",\n        \"description\": \"\"\n      }\n    },\n    {\n      \"column\": \"studentID\",\n      \"properties\": {\n        \"dtype\": \"string\",\n        \"num_unique_values\": 14,\n        \"samples\": [\n          \"90449\",\n          \"25477\",\n          \"10959\"\n        ],\n        \"semantic_type\": \"\",\n        \"description\": \"\"\n      }\n    },\n    {\n      \"column\": \"englishGrade\",\n      \"properties\": {\n        \"dtype\": \"number\",\n        \"std\": 6.145220603341776,\n        \"min\": 76.0,\n        \"max\": 98.0,\n        \"num_unique_values\": 12,\n        \"samples\": [\n          91.0,\n          92.0,\n          95.0\n        ],\n        \"semantic_type\": \"\",\n        \"description\": \"\"\n      }\n    },\n    {\n      \"column\": \"mathGrade\",\n      \"properties\": {\n        \"dtype\": \"number\",\n        \"std\": 5.918865350129789,\n        \"min\": 79.0,\n        \"max\": 99.0,\n        \"num_unique_values\": 12,\n        \"samples\": [\n          89.0,\n          99.0,\n          90.0\n        ],\n        \"semantic_type\": \"\",\n        \"description\": \"\"\n      }\n    },\n    {\n      \"column\": \"GPA\",\n      \"properties\": {\n        \"dtype\": \"number\",\n        \"std\": 3.6360904617671226,\n        \"min\": 82.0,\n        \"max\": 92.5,\n        \"num_unique_values\": 11,\n        \"samples\": [\n          83.5,\n          92.5,\n          92.0\n        ],\n        \"semantic_type\": \"\",\n        \"description\": \"\"\n      }\n    },\n    {\n      \"column\": \"homeRoom\",\n      \"properties\": {\n        \"dtype\": \"number\",\n        \"std\": 1,\n        \"min\": 311,\n        \"max\": 313,\n        \"num_unique_values\": 2,\n        \"samples\": [\n          311,\n          313\n        ],\n        \"semantic_type\": \"\",\n        \"description\": \"\"\n      }\n    }\n  ]\n}"
            }
          },
          "metadata": {},
          "execution_count": 62
        }
      ],
      "source": [
        "# Merge the studentHomerooms with the merged dataset & name it df_studentInfo. Make sure that the key you are joining on are the same typecast for both datasets.\n",
        "# Also ensure that there are no redundant columns, and finally display the first few rows.\n",
        "# Hint: try joining on more than one column to avoid having to drop redundant columns, ie. on=['studentID', '<ColumnA>', '<ColumnB>'] ...\n",
        "# (5 marks)\n",
        "df_homeroom['studentID'] = df_homeroom['studentID'].astype(str)\n",
        "df_studentInfo = pd.merge(df_studentGrades, df_homeroom, on=[\"studentID\", \"firstName\", \"lastName\"])\n",
        "df_studentInfo.head()"
      ]
    },
    {
      "cell_type": "code",
      "execution_count": 65,
      "id": "T-o1caIYswWg",
      "metadata": {
        "id": "T-o1caIYswWg",
        "colab": {
          "base_uri": "https://localhost:8080/"
        },
        "outputId": "cc5393fd-ca3b-498c-ee41-4cd902809378"
      },
      "outputs": [
        {
          "output_type": "stream",
          "name": "stdout",
          "text": [
            "homeRoom\n",
            "311    88.785714\n",
            "313    86.714286\n",
            "Name: GPA, dtype: float64\n"
          ]
        }
      ],
      "source": [
        "# The code below calculates the mean of each homeroom class.\n",
        "df_grouped = df_studentInfo.groupby('homeRoom')['GPA'].mean()\n",
        "print(df_grouped)\n",
        "# Which homeroom has a higher GPA?\n",
        "# (1 mark)\n",
        "#Homeroom 311 has the higher GPA"
      ]
    },
    {
      "cell_type": "code",
      "execution_count": 66,
      "id": "I1EtLRpVkCJt",
      "metadata": {
        "id": "I1EtLRpVkCJt",
        "colab": {
          "base_uri": "https://localhost:8080/"
        },
        "outputId": "bba92988-4319-42cf-c388-7b20187d86b8"
      },
      "outputs": [
        {
          "output_type": "stream",
          "name": "stdout",
          "text": [
            "   firstName  lastName studentID  englishGrade  mathGrade   GPA  homeRoom\n",
            "0       Emma     Smith     10959          95.0       90.0  92.5       313\n",
            "10      Ryan    Thomas     62137          92.0       89.0  90.5       313\n",
            "4    Stephen     Curry     30303          90.0       88.0  89.0       313\n",
            "3      David  Robinson     55148          86.0       87.0  86.5       313\n",
            "7      James     Jones     87707          76.0       92.0  84.0       313\n",
            "13   Matthew     White     25376          80.0       85.0  82.5       313\n",
            "6    Jasmine     Smith     70385          84.0       80.0  82.0       313\n",
            "12      Sara       Doe     47991          98.0       86.0  92.0       311\n",
            "1     Sophia  Robinson     75175          88.0       95.0  91.5       311\n",
            "9       Anne     Clark     90449          82.0       99.0  90.5       311\n",
            "8      Sarah     Swift     61026          80.0       98.0  89.0       311\n",
            "11    Daniel     White     25477          91.0       87.0  89.0       311\n",
            "2       Emma    Taylor     42257          87.0       85.0  86.0       311\n",
            "5   Isabella  Thompson     72824          88.0       79.0  83.5       311\n"
          ]
        }
      ],
      "source": [
        "# Now let's work with multiple sorts. The .sort_values() method can sort by multiple columns, meaning you can specify a primary column and a secondary column for sorting.\n",
        "# For example, by=['ColumnA', 'ColumnB'] will first sort by ColumnA and then by ColumnB.\n",
        "# Create and print a DataFrame, df_studentsGPASorted_homeroom, which is sorted by homeRoom and then by GPA, both in descending order.\n",
        "# (3 mark)\n",
        "df_studentsGPASorted_homeroom = df_studentInfo.sort_values(by=['homeRoom', 'GPA'], ascending=False)\n",
        "print(df_studentsGPASorted_homeroom)"
      ]
    },
    {
      "cell_type": "code",
      "execution_count": 67,
      "id": "7XWCjnSCox1a",
      "metadata": {
        "id": "7XWCjnSCox1a",
        "colab": {
          "base_uri": "https://localhost:8080/"
        },
        "outputId": "24451e9c-353c-41c0-e089-d92461541509"
      },
      "outputs": [
        {
          "output_type": "stream",
          "name": "stdout",
          "text": [
            "         firstName  lastName studentID  englishGrade  mathGrade   GPA  \\\n",
            "newIndex                                                                \n",
            "313-1         Emma     Smith     10959          95.0       90.0  92.5   \n",
            "313-2         Ryan    Thomas     62137          92.0       89.0  90.5   \n",
            "313-3      Stephen     Curry     30303          90.0       88.0  89.0   \n",
            "313-4        David  Robinson     55148          86.0       87.0  86.5   \n",
            "313-5        James     Jones     87707          76.0       92.0  84.0   \n",
            "313-6      Matthew     White     25376          80.0       85.0  82.5   \n",
            "313-7      Jasmine     Smith     70385          84.0       80.0  82.0   \n",
            "311-1         Sara       Doe     47991          98.0       86.0  92.0   \n",
            "311-2       Sophia  Robinson     75175          88.0       95.0  91.5   \n",
            "311-3         Anne     Clark     90449          82.0       99.0  90.5   \n",
            "311-4        Sarah     Swift     61026          80.0       98.0  89.0   \n",
            "311-5       Daniel     White     25477          91.0       87.0  89.0   \n",
            "311-6         Emma    Taylor     42257          87.0       85.0  86.0   \n",
            "311-7     Isabella  Thompson     72824          88.0       79.0  83.5   \n",
            "\n",
            "          homeRoom  \n",
            "newIndex            \n",
            "313-1          313  \n",
            "313-2          313  \n",
            "313-3          313  \n",
            "313-4          313  \n",
            "313-5          313  \n",
            "313-6          313  \n",
            "313-7          313  \n",
            "311-1          311  \n",
            "311-2          311  \n",
            "311-3          311  \n",
            "311-4          311  \n",
            "311-5          311  \n",
            "311-6          311  \n",
            "311-7          311  \n"
          ]
        }
      ],
      "source": [
        "# Do you notice a problem with the indices? They are basically meaningless now that we have sorted by homeroom and GPA.\n",
        "\n",
        "# The code below changes the index of the dataframe so that it is more intuitive.\n",
        "df_studentsGPASorted_homeroom['studentRank'] = df_studentsGPASorted_homeroom.groupby('homeRoom').cumcount() + 1\n",
        "df_studentsGPASorted_homeroom['newIndex'] = df_studentsGPASorted_homeroom['homeRoom'].astype(str) + '-' + df_studentsGPASorted_homeroom['studentRank'].astype(str)\n",
        "df_studentsGPASorted_homeroom = df_studentsGPASorted_homeroom.set_index('newIndex')\n",
        "df_studentsGPASorted_homeroom = df_studentsGPASorted_homeroom.drop(columns=['studentRank'])\n",
        "\n",
        "print(df_studentsGPASorted_homeroom)"
      ]
    },
    {
      "cell_type": "code",
      "execution_count": null,
      "id": "CUwJVCXfpsdJ",
      "metadata": {
        "id": "CUwJVCXfpsdJ"
      },
      "outputs": [],
      "source": [
        "# Describe what each coding line in the cell above is doing\n",
        "# (4 marks)\n",
        "#"
      ]
    },
    {
      "cell_type": "code",
      "execution_count": 68,
      "id": "t1iojeTVqLWW",
      "metadata": {
        "id": "t1iojeTVqLWW",
        "colab": {
          "base_uri": "https://localhost:8080/"
        },
        "outputId": "ea5416b4-2ed2-452d-c389-5fa9b246157b"
      },
      "outputs": [
        {
          "output_type": "stream",
          "name": "stdout",
          "text": [
            "         firstName lastName studentID  englishGrade  mathGrade   GPA  homeRoom\n",
            "newIndex                                                                      \n",
            "311-1         Sara      Doe     47991          98.0       86.0  92.0       311\n",
            "313-1         Emma    Smith     10959          95.0       90.0  92.5       313\n"
          ]
        }
      ],
      "source": [
        "# Given df_studentsGPASorted_homeroom, please find and print the students with the highest GPA in each homeroom using the .loc method.\n",
        "# (2 marks)\n",
        "print(df_studentsGPASorted_homeroom.loc[df_studentsGPASorted_homeroom.groupby('homeRoom')['GPA'].idxmax()])"
      ]
    },
    {
      "cell_type": "markdown",
      "id": "6360bc9f-ac32-4d0d-986d-f2cb21d422a9",
      "metadata": {
        "id": "6360bc9f-ac32-4d0d-986d-f2cb21d422a9"
      },
      "source": [
        "## Part 5: Using Matplotlib for Data Analytics\n",
        "### (12 marks)"
      ]
    },
    {
      "cell_type": "code",
      "execution_count": 71,
      "id": "44538b76-33d8-466e-8cc1-0936c22b541c",
      "metadata": {
        "id": "44538b76-33d8-466e-8cc1-0936c22b541c"
      },
      "outputs": [],
      "source": [
        "# In the space below, please import the matplotlib library\n",
        "import matplotlib.pyplot as plt"
      ]
    },
    {
      "cell_type": "code",
      "execution_count": 72,
      "id": "995a219d-fa27-4948-a51d-88aad7a24731",
      "metadata": {
        "id": "995a219d-fa27-4948-a51d-88aad7a24731",
        "colab": {
          "base_uri": "https://localhost:8080/",
          "height": 564
        },
        "outputId": "9ef43f6c-ddc7-43ac-967c-6a58fe13065e"
      },
      "outputs": [
        {
          "output_type": "display_data",
          "data": {
            "text/plain": [
              "<Figure size 1000x600 with 1 Axes>"
            ],
            "image/png": "[encoded data removed]"
          },
          "metadata": {}
        }
      ],
      "source": [
        "# Let's use matplotlib to display a histogram of the grades distribution\n",
        "# Histograms are useful for seeing the distribution of the students grades\n",
        "\n",
        "import matplotlib.pyplot as plt\n",
        "\n",
        "plt.figure(figsize=(10, 6))\n",
        "plt.hist(df_studentGrades['englishGrade'], bins=10, alpha=0.7, label='English Grades', color='blue')\n",
        "\n",
        "# Step 1: Use the line above as reference to create a histogram for the math grades\n",
        "# (1 mark)\n",
        "plt.hist(df_studentGrades['mathGrade'], bins=10, alpha=0.7, label='Math Grades', color='green')\n",
        "\n",
        "# Step 2: Ensure that your plot is descriptive, so use labels (x and y axis), a title, and a legend.\n",
        "# Hint: Use the matplotlib .legend(loc='<location>') to add and place the legend.\n",
        "# You can use 'upper left', 'upper right', 'lower left', and 'lower right' to specify the location.\n",
        "# (3 marks)\n",
        "plt.xlabel('Grade')\n",
        "plt.ylabel('Frequency')\n",
        "plt.title('Grade Distribution')\n",
        "plt.legend(loc='upper left')\n",
        "plt.grid(True)\n",
        "\n",
        "# Step 3: Use the .savefig('<image_title>'.png) to output an image file of the histogram.\n",
        "# Please be sure to use a descriptive title!\n",
        "# (1 mark)\n",
        "#\n",
        "plt.savefig('grade_distribution.png')\n",
        "plt.show()"
      ]
    },
    {
      "cell_type": "code",
      "execution_count": 74,
      "id": "631d4d69-dd89-4a31-a857-0f4eb1230bbc",
      "metadata": {
        "id": "631d4d69-dd89-4a31-a857-0f4eb1230bbc",
        "colab": {
          "base_uri": "https://localhost:8080/",
          "height": 564
        },
        "outputId": "6610281a-a410-4b9e-ae7f-63d4aad54605"
      },
      "outputs": [
        {
          "output_type": "display_data",
          "data": {
            "text/plain": [
              "<Figure size 1000x600 with 1 Axes>"
            ],
            "image/png": "[encoded data removed]"
          },
          "metadata": {}
        }
      ],
      "source": [
        "# Let's also use matplotlib to display a scatter plot of English vs. Math grades\n",
        "# Scatter plots are useful for seeing the relationship between two variables\n",
        "plt.figure(figsize=(10, 6))\n",
        "plt.scatter(df_studentGrades['englishGrade'], df_studentGrades['mathGrade'], alpha=0.7, color='blue')\n",
        "\n",
        "# Step 1: Use .scatter(x_data, y_data) to create a scatter plot using the English grades on the x-axis, and Math grades on the y-axis\n",
        "# (2 mark)\n",
        "plt.scatter(df_studentGrades['englishGrade'], df_studentGrades['mathGrade'], alpha=0.7, color='blue')\n",
        "\n",
        "# Step 1: Properly label the x and y axes as well as the title of your plot.\n",
        "# (3 marks)\n",
        "plt.xlabel('English Grades')\n",
        "plt.ylabel('Math Grades')\n",
        "plt.title('English vs. Math Grades')\n",
        "plt.grid(True)\n",
        "\n",
        "# Step 2: Output an image file for the scatter plot with a descriptive file name\n",
        "# (1 mark)\n",
        "plt.savefig('english_vs_math_grades.png')\n",
        "\n",
        "plt.show()"
      ]
    },
    {
      "cell_type": "code",
      "execution_count": null,
      "id": "B69uvG5uioH0",
      "metadata": {
        "id": "B69uvG5uioH0"
      },
      "outputs": [],
      "source": [
        "# From the scatter plot, is there a relationship between the Math and English grades?\n",
        "# (1 mark)\n",
        "# No there doesn't seem to be a relationship, maybe a slight one?"
      ]
    },
    {
      "cell_type": "markdown",
      "id": "ZxuRt0lP0QJ8",
      "metadata": {
        "id": "ZxuRt0lP0QJ8"
      },
      "source": [
        "## Part 6: Linear LSE\n",
        "### (35 marks)"
      ]
    },
    {
      "cell_type": "markdown",
      "id": "YwcKMKxc0eM1",
      "metadata": {
        "id": "YwcKMKxc0eM1"
      },
      "source": [
        "### Curve Fitting"
      ]
    },
    {
      "cell_type": "markdown",
      "id": "_Wc2j-qi05eD",
      "metadata": {
        "id": "_Wc2j-qi05eD"
      },
      "source": [
        "![curvefitting.png](data:image/png;base64,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)"
      ]
    },
    {
      "cell_type": "markdown",
      "id": "UKN6P8Ok1Pqk",
      "metadata": {
        "id": "UKN6P8Ok1Pqk"
      },
      "source": [
        "### Observations: values of a function f(a) in range of -π to π, contaminated with random noise"
      ]
    },
    {
      "cell_type": "markdown",
      "id": "Hl5nxQWc1UVu",
      "metadata": {
        "id": "Hl5nxQWc1UVu"
      },
      "source": [
        "### Unknown States: coefficients of polynomial functions for curve fitting"
      ]
    },
    {
      "cell_type": "code",
      "execution_count": 75,
      "id": "eD3KbmDV1ZH7",
      "metadata": {
        "id": "eD3KbmDV1ZH7"
      },
      "outputs": [],
      "source": [
        "# step 1\n",
        "# import necessary libraries\n",
        "import numpy as np\n",
        "import matplotlib.pyplot as plt\n",
        "import pandas as pd"
      ]
    },
    {
      "cell_type": "code",
      "execution_count": 77,
      "id": "VKM53vJy1bIO",
      "metadata": {
        "id": "VKM53vJy1bIO"
      },
      "outputs": [],
      "source": [
        "# step 2\n",
        "# Load data.xlsx file, which contains the observations (with noise), variance of observations and true observations\n",
        "# hint: use pandas library to parse excel file and use numpy library to convert it to array\n",
        "# (1 mark)\n",
        "df_data = pd.read_excel('/content/drive/MyDrive/ENGG680_2025_Fall/ENGG680_2025_Fall/Lab_Assignment1/data.xlsx')\n",
        "arr_data = df_data.to_numpy()\n",
        "\n",
        "#store the noisy observations, variance of observations and true observations into numpy arrays seperately\n",
        "# (1 mark)\n",
        "l = arr_data[:,0]\n",
        "l_var = arr_data[:,1]\n",
        "l_true = arr_data[:,2]"
      ]
    },
    {
      "cell_type": "code",
      "execution_count": 78,
      "id": "DXSx5BWvFUI2",
      "metadata": {
        "id": "DXSx5BWvFUI2"
      },
      "outputs": [],
      "source": [
        "# step 3\n",
        "# define the number of observation n\n",
        "# (1 mark)\n",
        "n = len(l)\n",
        "\n",
        "# define the observation weight matrix P for LSE as identity matrix\n",
        "# identity weight matrix simply means the observations will be unweighted in the following LSE\n",
        "# (1 mark)\n",
        "P = np.identity(n)\n",
        "\n",
        "# define the range of function input(i.e., constants a), from start to end; and the numerical array of a\n",
        "start = -1* np.pi\n",
        "end = np.pi\n",
        "a = np.linspace(start, end, n)"
      ]
    },
    {
      "cell_type": "code",
      "execution_count": 79,
      "id": "Dq2JjNrfFVLt",
      "metadata": {
        "id": "Dq2JjNrfFVLt",
        "colab": {
          "base_uri": "https://localhost:8080/",
          "height": 527
        },
        "outputId": "5c9c79dc-1ceb-4ed1-9ab4-2c016b959dac"
      },
      "outputs": [
        {
          "output_type": "display_data",
          "data": {
            "text/plain": [
              "<Figure size 1400x500 with 1 Axes>"
            ],
            "image/png": "[encoded data removed]"
          },
          "metadata": {}
        }
      ],
      "source": [
        "# step 4\n",
        "# use the matplotlib to plot the true and noisy observations together in one single figure\n",
        "# use scatter for noisy observation plotting\n",
        "# for the true observation, label it as \"f(a)\"\" and set color as 'k'\n",
        "# for the noisy observation scatter plot, label it as \"f(a) + e\", set color as 'tab:blue', set marker as 'o' and set alpha as 0.3\n",
        "# include proper axis labels, legend and title\n",
        "# scale the range of x-axis to be -1 to 1\n",
        "# keep this format for the rest of the plots in this lab assignment\n",
        "# (2 marks)\n",
        "\n",
        "fig, ax = plt.subplots(nrows=1, ncols=1, figsize=(14, 5))\n",
        "plt.plot(a, l_true, label='f(a)', color='k')\n",
        "plt.scatter(a, l, label='f(a) + e', color='tab:blue', marker='o', alpha=0.3)\n",
        "plt.xlabel(\"a\")\n",
        "plt.ylabel(\"f(a) + e\")\n",
        "plt.title(\"True and Noisy Observations\")\n",
        "plt.legend()\n",
        "plt.xlim(-1, 1)\n",
        "\n",
        "ax.grid(True, which='both',ls='-',color='0.65')\n",
        "fig.tight_layout()"
      ]
    },
    {
      "cell_type": "code",
      "execution_count": 129,
      "id": "cfzXQ3OvFbFc",
      "metadata": {
        "id": "cfzXQ3OvFbFc"
      },
      "outputs": [],
      "source": [
        "# step 5\n",
        "# define a curve fitting function named fit_polynomial_curve\n",
        "# the function should implement the linear least square estimation\n",
        "# the function should include all important intermediate steps in LSE\n",
        "# the input and output of the funciton are described in the comment below in red.\n",
        "# please keep code clean and well-commented\n",
        "# (7 marks)\n",
        "\n",
        "def fit_polynomial_curve(a: np.ndarray, l: np.ndarray, P: np.ndarray, deg: int) -> tuple:\n",
        "    '''\n",
        "    Args:\n",
        "        a:              function input (constants)\n",
        "        l:              noisy observations\n",
        "        P:              observation weight matrix\n",
        "        deg:            degree of polynomial to fit to data\n",
        "    Returns:\n",
        "        x:              estimated polynomial coefficients\n",
        "        cov_x:          uncertainty in estimated coefficients\n",
        "        apv:            a posterier variance factor (goodness of fit)\n",
        "        v:              observation residuals\n",
        "    '''\n",
        "    A = np.vander(a, deg + 1, increasing=False)\n",
        "    N = A.T @ P @ A\n",
        "    n = A.T @ P @ l\n",
        "    x = np.linalg.inv(N) @ n\n",
        "    l_hat = A @ x\n",
        "    v = l_hat - l\n",
        "    n_obs = len(l)\n",
        "    n_params = len(x)\n",
        "    apv = (v.T @ P @ v) / (n_obs - n_params)\n",
        "    cov_x = apv * np.linalg.inv(N)\n",
        "\n",
        "    return (x, cov_x, apv, v)"
      ]
    },
    {
      "cell_type": "code",
      "execution_count": 130,
      "id": "olhkeXPyFf_O",
      "metadata": {
        "id": "olhkeXPyFf_O",
        "colab": {
          "base_uri": "https://localhost:8080/"
        },
        "outputId": "201dbabf-e20e-47e4-c777-db05610e3d4b"
      },
      "outputs": [
        {
          "output_type": "stream",
          "name": "stdout",
          "text": [
            "x2:  [  0.0713645    7.19148517 -16.90170773]\n",
            "x4:  [  0.04778621  -2.03819763  -0.45133094  19.54686446 -15.79682645]\n",
            "x6:  [ -0.02952172   0.16218057   0.45509057  -3.84085754  -1.84198726\n",
            "  23.42199636 -14.98517269]\n"
          ]
        }
      ],
      "source": [
        "# step 6\n",
        "# call the fit_polynomial_curve function and fetch the results\n",
        "# use polynomial degrees of: 2, 4, 6\n",
        "# (1 marks)\n",
        "x2, cov_x2, apv2, v2 = fit_polynomial_curve(a, l, P, 2)\n",
        "x4, cov_x4, apv4, v4 = fit_polynomial_curve(a, l, P, 4)\n",
        "x6, cov_x6, apv6, v6 = fit_polynomial_curve(a, l, P, 6)\n",
        "print(\"x2: \", x2)\n",
        "print(\"x4: \", x4)\n",
        "print(\"x6: \", x6)\n"
      ]
    },
    {
      "cell_type": "code",
      "execution_count": 131,
      "id": "NiJtZl4JFjpc",
      "metadata": {
        "id": "NiJtZl4JFjpc"
      },
      "outputs": [],
      "source": [
        "# step 7\n",
        "# use the estimated coefficients x and constants array a, construct polynomial functions for each degree\n",
        "# hint: use polyval function from numpy library (check input argument carefully)\n",
        "# (1 marks)\n",
        "\n",
        "quadratic_uw = np.polyval(x2, a)\n",
        "quartic_uw = np.polyval(x4, a)\n",
        "hexic_uw = np.polyval(x6, a)"
      ]
    },
    {
      "cell_type": "code",
      "execution_count": 132,
      "id": "LTdoQs-UF9zj",
      "metadata": {
        "id": "LTdoQs-UF9zj",
        "colab": {
          "base_uri": "https://localhost:8080/",
          "height": 527
        },
        "outputId": "6a023850-784b-4bc7-e7f7-0a4333fa56ea"
      },
      "outputs": [
        {
          "output_type": "display_data",
          "data": {
            "text/plain": [
              "<Figure size 1400x500 with 1 Axes>"
            ],
            "image/png": "[encoded data removed]"
          },
          "metadata": {}
        }
      ],
      "source": [
        "# step 8\n",
        "# use the matplotlib to plot each polynomial function, noisy observations l, true observations l_true, together in one single figure\n",
        "# for the polynomials of line, cubic and quintic, use color of orange, green and red respectively.\n",
        "# (2 marks)\n",
        "\n",
        "fig, ax = plt.subplots(nrows=1, ncols=1, figsize=(14, 5))\n",
        "plt.plot(a, l_true, label='f(a)', color='k')\n",
        "plt.scatter(a, l, label='f(a) + e', color='tab:blue', marker='o', alpha=0.3)\n",
        "plt.plot(a, quadratic_uw, label='quadratic', color='orange')\n",
        "plt.plot(a, quartic_uw, label='quartic', color='green')\n",
        "plt.plot(a, hexic_uw, label='hexic', color='red')\n",
        "\n",
        "plt.xlabel(\"a\")\n",
        "plt.ylabel(\"f(a) + e\")\n",
        "plt.title(\"Polynomial Functions\")\n",
        "plt.legend()\n",
        "plt.xlim(-1, 1)\n",
        "\n",
        "\n",
        "ax.grid(True, which='both',ls='-',color='0.65')\n",
        "\n",
        "fig.tight_layout()"
      ]
    },
    {
      "cell_type": "code",
      "execution_count": 104,
      "id": "h2ypl9DkGBjD",
      "metadata": {
        "id": "h2ypl9DkGBjD",
        "colab": {
          "base_uri": "https://localhost:8080/"
        },
        "outputId": "68b4c827-f320-44d2-9490-73b006c1374e"
      },
      "outputs": [
        {
          "output_type": "stream",
          "name": "stdout",
          "text": [
            "apv2:  163.0561531810196\n",
            "apv4:  66.24842817291722\n",
            "apv6:  63.858631542120975\n"
          ]
        }
      ],
      "source": [
        "# step 9\n",
        "# print the a posterier variance factor for each polynomial function\n",
        "# (3 marks)\n",
        "print(\"apv2: \", apv2)\n",
        "print(\"apv4: \", apv4)\n",
        "print(\"apv6: \", apv6)\n"
      ]
    },
    {
      "cell_type": "code",
      "execution_count": 106,
      "id": "k1PW3ydoGDdf",
      "metadata": {
        "id": "k1PW3ydoGDdf",
        "colab": {
          "base_uri": "https://localhost:8080/"
        },
        "outputId": "9a6b3cae-d4b1-4013-a2c0-833f211168b8"
      },
      "outputs": [
        {
          "output_type": "stream",
          "name": "stdout",
          "text": [
            "norm2:  229.07525292632084\n",
            "norm4:  38.398621301719444\n",
            "norm6:  17.777307373969766\n"
          ]
        }
      ],
      "source": [
        "# step 10\n",
        "# compute and print the norm between the predicted observations (output from each polynomial function) and the true observations\n",
        "# (3 marks)\n",
        "print(\"norm2: \", np.linalg.norm(l_true - quadratic_uw))\n",
        "print(\"norm4: \", np.linalg.norm(l_true - quartic_uw))\n",
        "print(\"norm6: \", np.linalg.norm(l_true - hexic_uw))"
      ]
    },
    {
      "cell_type": "code",
      "execution_count": null,
      "id": "0NNM8mYZGFXT",
      "metadata": {
        "id": "0NNM8mYZGFXT"
      },
      "outputs": [],
      "source": [
        "# step 11\n",
        "# comment on the results of a posterier variance factor and norm, what pattern do you observe\n",
        "# (2 marks)\n",
        "# the category for 2 has a much larger value for both the variance factor and norm\n"
      ]
    },
    {
      "cell_type": "code",
      "execution_count": 133,
      "id": "iC1ABdIjGH8V",
      "metadata": {
        "id": "iC1ABdIjGH8V"
      },
      "outputs": [],
      "source": [
        "# step 12\n",
        "# now, let's define the P matrix with the proper weights of observation\n",
        "# use the variance of observation l_var, define P matrix\n",
        "# (1 mark)\n",
        "P = np.diag(1 / l_var)"
      ]
    },
    {
      "cell_type": "code",
      "execution_count": 135,
      "id": "qVhsJPy9GJt-",
      "metadata": {
        "id": "qVhsJPy9GJt-",
        "colab": {
          "base_uri": "https://localhost:8080/",
          "height": 539
        },
        "outputId": "c0a7db42-ab6f-416a-eeb9-b56d6b4d64df"
      },
      "outputs": [
        {
          "output_type": "stream",
          "name": "stdout",
          "text": [
            "x2:  [  0.08553357   7.68372831 -16.8015757 ]\n",
            "x4:  [  0.02456981  -2.23145473  -0.23984115  20.32277776 -16.57861487]\n",
            "x6:  [ 7.36093972e-03  1.22603111e-01 -9.10971524e-02 -3.50056090e+00\n",
            "  2.64782611e-01  2.26954798e+01 -1.69836273e+01]\n",
            "apv2:  12.07297932694332\n",
            "apv4:  1.1441867042253178\n",
            "apv6:  0.944928427796349\n",
            "norm2:  230.80021355007958\n",
            "norm4:  36.25554580453544\n",
            "norm6:  6.55303805513699\n"
          ]
        },
        {
          "output_type": "display_data",
          "data": {
            "text/plain": [
              "<Figure size 1400x500 with 1 Axes>"
            ],
            "image/png": "[encoded data removed]"
          },
          "metadata": {}
        }
      ],
      "source": [
        "# step 13\n",
        "# repeat the steps 6-10, using the proper P matrix\n",
        "# (7 marks)\n",
        "x2, cov_x2, apv2, v2 = fit_polynomial_curve(a, l, P, 2)\n",
        "x4, cov_x4, apv4, v4 = fit_polynomial_curve(a, l, P, 4)\n",
        "x6, cov_x6, apv6, v6 = fit_polynomial_curve(a, l, P, 6)\n",
        "print(\"x2: \", x2)\n",
        "print(\"x4: \", x4)\n",
        "print(\"x6: \", x6)\n",
        "quadratic_uw = np.polyval(x2, a)\n",
        "quartic_uw = np.polyval(x4, a)\n",
        "hexic_uw = np.polyval(x6, a)\n",
        "\n",
        "fig, ax = plt.subplots(nrows=1, ncols=1, figsize=(14, 5))\n",
        "plt.plot(a, l_true, label='f(a)', color='k')\n",
        "plt.scatter(a, l, label='f(a) + e', color='tab:blue', marker='o', alpha=0.3)\n",
        "plt.plot(a, quadratic_uw, label='quadratic', color='orange')\n",
        "plt.plot(a, quartic_uw, label='quartic', color='green')\n",
        "plt.plot(a, hexic_uw, label='hexic', color='red')\n",
        "\n",
        "plt.xlabel(\"a\")\n",
        "plt.ylabel(\"f(a) + e\")\n",
        "plt.title(\"Polynomial Functions\")\n",
        "plt.legend()\n",
        "plt.xlim(-1, 1)\n",
        "\n",
        "\n",
        "ax.grid(True, which='both',ls='-',color='0.65')\n",
        "\n",
        "fig.tight_layout()\n",
        "\n",
        "ax.grid(True, which='both',ls='-',color='0.65')\n",
        "\n",
        "fig.tight_layout()\n",
        "print(\"apv2: \", apv2)\n",
        "print(\"apv4: \", apv4)\n",
        "print(\"apv6: \", apv6)\n",
        "print(\"norm2: \", np.linalg.norm(l_true - quadratic_uw))\n",
        "print(\"norm4: \", np.linalg.norm(l_true - quartic_uw))\n",
        "print(\"norm6: \", np.linalg.norm(l_true - hexic_uw))\n"
      ]
    },
    {
      "cell_type": "code",
      "execution_count": null,
      "id": "vETaTNUFGMCr",
      "metadata": {
        "id": "vETaTNUFGMCr"
      },
      "outputs": [],
      "source": [
        "# step 14\n",
        "# Compare the results of a posterier variance factor and norm from unweighted LSE and weighted LSE, what phenomena do you observe? Explain this phenomena.\n",
        "# (2 marks)\n",
        "# much smaller posterior variance in the weighted LSE when compared with the unweighted, the weighted LSE weighs the data with a lower variance higher, so there is overall less variance wihin the data."
      ]
    }
  ],
  "metadata": {
    "colab": {
      "provenance": [],
      "include_colab_link": true
    },
    "kernelspec": {
      "display_name": "Python 3 (ipykernel)",
      "language": "python",
      "name": "python3"
    },
    "language_info": {
      "codemirror_mode": {
        "name": "ipython",
        "version": 3
      },
      "file_extension": ".py",
      "mimetype": "text/x-python",
      "name": "python",
      "nbconvert_exporter": "python",
      "pygments_lexer": "ipython3",
      "version": "3.10.9"
    }
  },
  "nbformat": 4,
  "nbformat_minor": 5
}